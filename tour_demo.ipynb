{
 "cells": [
  {
   "cell_type": "code",
   "execution_count": 1,
   "id": "792fa594-0ada-4375-aefb-ebccb536cdff",
   "metadata": {},
   "outputs": [],
   "source": [
    "import pandas as pd\n",
    "import asyncio\n",
    "from langchain_community.document_transformers import DoctranTextTranslator\n",
    "from langchain_core.documents import Document\n",
    "import openai\n",
    "import nest_asyncio\n",
    "from langchain.text_splitter import CharacterTextSplitter"
   ]
  },
  {
   "cell_type": "code",
   "execution_count": 2,
   "id": "6c5da02a-2f06-42d4-8e43-693ad2a143a7",
   "metadata": {},
   "outputs": [],
   "source": [
    "from langchain_elasticsearch import ElasticsearchStore\n",
    "from langchain_openai import OpenAIEmbeddings\n",
    "import elasticsearch\n",
    "import getpass\n",
    "from functools import partial"
   ]
  },
  {
   "cell_type": "code",
   "execution_count": 3,
   "id": "17b3e73e-fde8-4317-bce7-a26b831e6aaf",
   "metadata": {},
   "outputs": [],
   "source": [
    "nest_asyncio.apply()"
   ]
  },
  {
   "cell_type": "code",
   "execution_count": 20,
   "id": "451914db-8825-4e5d-a96f-56e5021c3d6d",
   "metadata": {},
   "outputs": [
    {
     "ename": "FileNotFoundError",
     "evalue": "[Errno 2] No such file or directory: '/Users/jessgarson/Documents/tour_press_update.csv'",
     "output_type": "error",
     "traceback": [
      "\u001b[0;31m---------------------------------------------------------------------------\u001b[0m",
      "\u001b[0;31mFileNotFoundError\u001b[0m                         Traceback (most recent call last)",
      "Cell \u001b[0;32mIn[20], line 1\u001b[0m\n\u001b[0;32m----> 1\u001b[0m df \u001b[38;5;241m=\u001b[39m \u001b[43mpd\u001b[49m\u001b[38;5;241;43m.\u001b[39;49m\u001b[43mread_csv\u001b[49m\u001b[43m(\u001b[49m\u001b[38;5;124;43m'\u001b[39;49m\u001b[38;5;124;43m/Users/jessgarson/Documents/tour_press_update.csv\u001b[39;49m\u001b[38;5;124;43m'\u001b[39;49m\u001b[43m)\u001b[49m\n",
      "File \u001b[0;32m/Library/Frameworks/Python.framework/Versions/3.12/lib/python3.12/site-packages/pandas/io/parsers/readers.py:948\u001b[0m, in \u001b[0;36mread_csv\u001b[0;34m(filepath_or_buffer, sep, delimiter, header, names, index_col, usecols, dtype, engine, converters, true_values, false_values, skipinitialspace, skiprows, skipfooter, nrows, na_values, keep_default_na, na_filter, verbose, skip_blank_lines, parse_dates, infer_datetime_format, keep_date_col, date_parser, date_format, dayfirst, cache_dates, iterator, chunksize, compression, thousands, decimal, lineterminator, quotechar, quoting, doublequote, escapechar, comment, encoding, encoding_errors, dialect, on_bad_lines, delim_whitespace, low_memory, memory_map, float_precision, storage_options, dtype_backend)\u001b[0m\n\u001b[1;32m    935\u001b[0m kwds_defaults \u001b[38;5;241m=\u001b[39m _refine_defaults_read(\n\u001b[1;32m    936\u001b[0m     dialect,\n\u001b[1;32m    937\u001b[0m     delimiter,\n\u001b[0;32m   (...)\u001b[0m\n\u001b[1;32m    944\u001b[0m     dtype_backend\u001b[38;5;241m=\u001b[39mdtype_backend,\n\u001b[1;32m    945\u001b[0m )\n\u001b[1;32m    946\u001b[0m kwds\u001b[38;5;241m.\u001b[39mupdate(kwds_defaults)\n\u001b[0;32m--> 948\u001b[0m \u001b[38;5;28;01mreturn\u001b[39;00m \u001b[43m_read\u001b[49m\u001b[43m(\u001b[49m\u001b[43mfilepath_or_buffer\u001b[49m\u001b[43m,\u001b[49m\u001b[43m \u001b[49m\u001b[43mkwds\u001b[49m\u001b[43m)\u001b[49m\n",
      "File \u001b[0;32m/Library/Frameworks/Python.framework/Versions/3.12/lib/python3.12/site-packages/pandas/io/parsers/readers.py:611\u001b[0m, in \u001b[0;36m_read\u001b[0;34m(filepath_or_buffer, kwds)\u001b[0m\n\u001b[1;32m    608\u001b[0m _validate_names(kwds\u001b[38;5;241m.\u001b[39mget(\u001b[38;5;124m\"\u001b[39m\u001b[38;5;124mnames\u001b[39m\u001b[38;5;124m\"\u001b[39m, \u001b[38;5;28;01mNone\u001b[39;00m))\n\u001b[1;32m    610\u001b[0m \u001b[38;5;66;03m# Create the parser.\u001b[39;00m\n\u001b[0;32m--> 611\u001b[0m parser \u001b[38;5;241m=\u001b[39m \u001b[43mTextFileReader\u001b[49m\u001b[43m(\u001b[49m\u001b[43mfilepath_or_buffer\u001b[49m\u001b[43m,\u001b[49m\u001b[43m \u001b[49m\u001b[38;5;241;43m*\u001b[39;49m\u001b[38;5;241;43m*\u001b[39;49m\u001b[43mkwds\u001b[49m\u001b[43m)\u001b[49m\n\u001b[1;32m    613\u001b[0m \u001b[38;5;28;01mif\u001b[39;00m chunksize \u001b[38;5;129;01mor\u001b[39;00m iterator:\n\u001b[1;32m    614\u001b[0m     \u001b[38;5;28;01mreturn\u001b[39;00m parser\n",
      "File \u001b[0;32m/Library/Frameworks/Python.framework/Versions/3.12/lib/python3.12/site-packages/pandas/io/parsers/readers.py:1448\u001b[0m, in \u001b[0;36mTextFileReader.__init__\u001b[0;34m(self, f, engine, **kwds)\u001b[0m\n\u001b[1;32m   1445\u001b[0m     \u001b[38;5;28mself\u001b[39m\u001b[38;5;241m.\u001b[39moptions[\u001b[38;5;124m\"\u001b[39m\u001b[38;5;124mhas_index_names\u001b[39m\u001b[38;5;124m\"\u001b[39m] \u001b[38;5;241m=\u001b[39m kwds[\u001b[38;5;124m\"\u001b[39m\u001b[38;5;124mhas_index_names\u001b[39m\u001b[38;5;124m\"\u001b[39m]\n\u001b[1;32m   1447\u001b[0m \u001b[38;5;28mself\u001b[39m\u001b[38;5;241m.\u001b[39mhandles: IOHandles \u001b[38;5;241m|\u001b[39m \u001b[38;5;28;01mNone\u001b[39;00m \u001b[38;5;241m=\u001b[39m \u001b[38;5;28;01mNone\u001b[39;00m\n\u001b[0;32m-> 1448\u001b[0m \u001b[38;5;28mself\u001b[39m\u001b[38;5;241m.\u001b[39m_engine \u001b[38;5;241m=\u001b[39m \u001b[38;5;28;43mself\u001b[39;49m\u001b[38;5;241;43m.\u001b[39;49m\u001b[43m_make_engine\u001b[49m\u001b[43m(\u001b[49m\u001b[43mf\u001b[49m\u001b[43m,\u001b[49m\u001b[43m \u001b[49m\u001b[38;5;28;43mself\u001b[39;49m\u001b[38;5;241;43m.\u001b[39;49m\u001b[43mengine\u001b[49m\u001b[43m)\u001b[49m\n",
      "File \u001b[0;32m/Library/Frameworks/Python.framework/Versions/3.12/lib/python3.12/site-packages/pandas/io/parsers/readers.py:1705\u001b[0m, in \u001b[0;36mTextFileReader._make_engine\u001b[0;34m(self, f, engine)\u001b[0m\n\u001b[1;32m   1703\u001b[0m     \u001b[38;5;28;01mif\u001b[39;00m \u001b[38;5;124m\"\u001b[39m\u001b[38;5;124mb\u001b[39m\u001b[38;5;124m\"\u001b[39m \u001b[38;5;129;01mnot\u001b[39;00m \u001b[38;5;129;01min\u001b[39;00m mode:\n\u001b[1;32m   1704\u001b[0m         mode \u001b[38;5;241m+\u001b[39m\u001b[38;5;241m=\u001b[39m \u001b[38;5;124m\"\u001b[39m\u001b[38;5;124mb\u001b[39m\u001b[38;5;124m\"\u001b[39m\n\u001b[0;32m-> 1705\u001b[0m \u001b[38;5;28mself\u001b[39m\u001b[38;5;241m.\u001b[39mhandles \u001b[38;5;241m=\u001b[39m \u001b[43mget_handle\u001b[49m\u001b[43m(\u001b[49m\n\u001b[1;32m   1706\u001b[0m \u001b[43m    \u001b[49m\u001b[43mf\u001b[49m\u001b[43m,\u001b[49m\n\u001b[1;32m   1707\u001b[0m \u001b[43m    \u001b[49m\u001b[43mmode\u001b[49m\u001b[43m,\u001b[49m\n\u001b[1;32m   1708\u001b[0m \u001b[43m    \u001b[49m\u001b[43mencoding\u001b[49m\u001b[38;5;241;43m=\u001b[39;49m\u001b[38;5;28;43mself\u001b[39;49m\u001b[38;5;241;43m.\u001b[39;49m\u001b[43moptions\u001b[49m\u001b[38;5;241;43m.\u001b[39;49m\u001b[43mget\u001b[49m\u001b[43m(\u001b[49m\u001b[38;5;124;43m\"\u001b[39;49m\u001b[38;5;124;43mencoding\u001b[39;49m\u001b[38;5;124;43m\"\u001b[39;49m\u001b[43m,\u001b[49m\u001b[43m \u001b[49m\u001b[38;5;28;43;01mNone\u001b[39;49;00m\u001b[43m)\u001b[49m\u001b[43m,\u001b[49m\n\u001b[1;32m   1709\u001b[0m \u001b[43m    \u001b[49m\u001b[43mcompression\u001b[49m\u001b[38;5;241;43m=\u001b[39;49m\u001b[38;5;28;43mself\u001b[39;49m\u001b[38;5;241;43m.\u001b[39;49m\u001b[43moptions\u001b[49m\u001b[38;5;241;43m.\u001b[39;49m\u001b[43mget\u001b[49m\u001b[43m(\u001b[49m\u001b[38;5;124;43m\"\u001b[39;49m\u001b[38;5;124;43mcompression\u001b[39;49m\u001b[38;5;124;43m\"\u001b[39;49m\u001b[43m,\u001b[49m\u001b[43m \u001b[49m\u001b[38;5;28;43;01mNone\u001b[39;49;00m\u001b[43m)\u001b[49m\u001b[43m,\u001b[49m\n\u001b[1;32m   1710\u001b[0m \u001b[43m    \u001b[49m\u001b[43mmemory_map\u001b[49m\u001b[38;5;241;43m=\u001b[39;49m\u001b[38;5;28;43mself\u001b[39;49m\u001b[38;5;241;43m.\u001b[39;49m\u001b[43moptions\u001b[49m\u001b[38;5;241;43m.\u001b[39;49m\u001b[43mget\u001b[49m\u001b[43m(\u001b[49m\u001b[38;5;124;43m\"\u001b[39;49m\u001b[38;5;124;43mmemory_map\u001b[39;49m\u001b[38;5;124;43m\"\u001b[39;49m\u001b[43m,\u001b[49m\u001b[43m \u001b[49m\u001b[38;5;28;43;01mFalse\u001b[39;49;00m\u001b[43m)\u001b[49m\u001b[43m,\u001b[49m\n\u001b[1;32m   1711\u001b[0m \u001b[43m    \u001b[49m\u001b[43mis_text\u001b[49m\u001b[38;5;241;43m=\u001b[39;49m\u001b[43mis_text\u001b[49m\u001b[43m,\u001b[49m\n\u001b[1;32m   1712\u001b[0m \u001b[43m    \u001b[49m\u001b[43merrors\u001b[49m\u001b[38;5;241;43m=\u001b[39;49m\u001b[38;5;28;43mself\u001b[39;49m\u001b[38;5;241;43m.\u001b[39;49m\u001b[43moptions\u001b[49m\u001b[38;5;241;43m.\u001b[39;49m\u001b[43mget\u001b[49m\u001b[43m(\u001b[49m\u001b[38;5;124;43m\"\u001b[39;49m\u001b[38;5;124;43mencoding_errors\u001b[39;49m\u001b[38;5;124;43m\"\u001b[39;49m\u001b[43m,\u001b[49m\u001b[43m \u001b[49m\u001b[38;5;124;43m\"\u001b[39;49m\u001b[38;5;124;43mstrict\u001b[39;49m\u001b[38;5;124;43m\"\u001b[39;49m\u001b[43m)\u001b[49m\u001b[43m,\u001b[49m\n\u001b[1;32m   1713\u001b[0m \u001b[43m    \u001b[49m\u001b[43mstorage_options\u001b[49m\u001b[38;5;241;43m=\u001b[39;49m\u001b[38;5;28;43mself\u001b[39;49m\u001b[38;5;241;43m.\u001b[39;49m\u001b[43moptions\u001b[49m\u001b[38;5;241;43m.\u001b[39;49m\u001b[43mget\u001b[49m\u001b[43m(\u001b[49m\u001b[38;5;124;43m\"\u001b[39;49m\u001b[38;5;124;43mstorage_options\u001b[39;49m\u001b[38;5;124;43m\"\u001b[39;49m\u001b[43m,\u001b[49m\u001b[43m \u001b[49m\u001b[38;5;28;43;01mNone\u001b[39;49;00m\u001b[43m)\u001b[49m\u001b[43m,\u001b[49m\n\u001b[1;32m   1714\u001b[0m \u001b[43m\u001b[49m\u001b[43m)\u001b[49m\n\u001b[1;32m   1715\u001b[0m \u001b[38;5;28;01massert\u001b[39;00m \u001b[38;5;28mself\u001b[39m\u001b[38;5;241m.\u001b[39mhandles \u001b[38;5;129;01mis\u001b[39;00m \u001b[38;5;129;01mnot\u001b[39;00m \u001b[38;5;28;01mNone\u001b[39;00m\n\u001b[1;32m   1716\u001b[0m f \u001b[38;5;241m=\u001b[39m \u001b[38;5;28mself\u001b[39m\u001b[38;5;241m.\u001b[39mhandles\u001b[38;5;241m.\u001b[39mhandle\n",
      "File \u001b[0;32m/Library/Frameworks/Python.framework/Versions/3.12/lib/python3.12/site-packages/pandas/io/common.py:863\u001b[0m, in \u001b[0;36mget_handle\u001b[0;34m(path_or_buf, mode, encoding, compression, memory_map, is_text, errors, storage_options)\u001b[0m\n\u001b[1;32m    858\u001b[0m \u001b[38;5;28;01melif\u001b[39;00m \u001b[38;5;28misinstance\u001b[39m(handle, \u001b[38;5;28mstr\u001b[39m):\n\u001b[1;32m    859\u001b[0m     \u001b[38;5;66;03m# Check whether the filename is to be opened in binary mode.\u001b[39;00m\n\u001b[1;32m    860\u001b[0m     \u001b[38;5;66;03m# Binary mode does not support 'encoding' and 'newline'.\u001b[39;00m\n\u001b[1;32m    861\u001b[0m     \u001b[38;5;28;01mif\u001b[39;00m ioargs\u001b[38;5;241m.\u001b[39mencoding \u001b[38;5;129;01mand\u001b[39;00m \u001b[38;5;124m\"\u001b[39m\u001b[38;5;124mb\u001b[39m\u001b[38;5;124m\"\u001b[39m \u001b[38;5;129;01mnot\u001b[39;00m \u001b[38;5;129;01min\u001b[39;00m ioargs\u001b[38;5;241m.\u001b[39mmode:\n\u001b[1;32m    862\u001b[0m         \u001b[38;5;66;03m# Encoding\u001b[39;00m\n\u001b[0;32m--> 863\u001b[0m         handle \u001b[38;5;241m=\u001b[39m \u001b[38;5;28;43mopen\u001b[39;49m\u001b[43m(\u001b[49m\n\u001b[1;32m    864\u001b[0m \u001b[43m            \u001b[49m\u001b[43mhandle\u001b[49m\u001b[43m,\u001b[49m\n\u001b[1;32m    865\u001b[0m \u001b[43m            \u001b[49m\u001b[43mioargs\u001b[49m\u001b[38;5;241;43m.\u001b[39;49m\u001b[43mmode\u001b[49m\u001b[43m,\u001b[49m\n\u001b[1;32m    866\u001b[0m \u001b[43m            \u001b[49m\u001b[43mencoding\u001b[49m\u001b[38;5;241;43m=\u001b[39;49m\u001b[43mioargs\u001b[49m\u001b[38;5;241;43m.\u001b[39;49m\u001b[43mencoding\u001b[49m\u001b[43m,\u001b[49m\n\u001b[1;32m    867\u001b[0m \u001b[43m            \u001b[49m\u001b[43merrors\u001b[49m\u001b[38;5;241;43m=\u001b[39;49m\u001b[43merrors\u001b[49m\u001b[43m,\u001b[49m\n\u001b[1;32m    868\u001b[0m \u001b[43m            \u001b[49m\u001b[43mnewline\u001b[49m\u001b[38;5;241;43m=\u001b[39;49m\u001b[38;5;124;43m\"\u001b[39;49m\u001b[38;5;124;43m\"\u001b[39;49m\u001b[43m,\u001b[49m\n\u001b[1;32m    869\u001b[0m \u001b[43m        \u001b[49m\u001b[43m)\u001b[49m\n\u001b[1;32m    870\u001b[0m     \u001b[38;5;28;01melse\u001b[39;00m:\n\u001b[1;32m    871\u001b[0m         \u001b[38;5;66;03m# Binary mode\u001b[39;00m\n\u001b[1;32m    872\u001b[0m         handle \u001b[38;5;241m=\u001b[39m \u001b[38;5;28mopen\u001b[39m(handle, ioargs\u001b[38;5;241m.\u001b[39mmode)\n",
      "\u001b[0;31mFileNotFoundError\u001b[0m: [Errno 2] No such file or directory: '/Users/jessgarson/Documents/tour_press_update.csv'"
     ]
    }
   ],
   "source": [
    "df = pd.read_csv('/Users/jessgarson/Docments/tour_press_update.csv')"
   ]
  },
  {
   "cell_type": "code",
   "execution_count": 5,
   "id": "658787eb-4257-4f79-8c98-b23c03d7e8ce",
   "metadata": {},
   "outputs": [
    {
     "data": {
      "text/html": [
       "<div>\n",
       "<style scoped>\n",
       "    .dataframe tbody tr th:only-of-type {\n",
       "        vertical-align: middle;\n",
       "    }\n",
       "\n",
       "    .dataframe tbody tr th {\n",
       "        vertical-align: top;\n",
       "    }\n",
       "\n",
       "    .dataframe thead th {\n",
       "        text-align: right;\n",
       "    }\n",
       "</style>\n",
       "<table border=\"1\" class=\"dataframe\">\n",
       "  <thead>\n",
       "    <tr style=\"text-align: right;\">\n",
       "      <th></th>\n",
       "      <th>title</th>\n",
       "      <th>date</th>\n",
       "      <th>link</th>\n",
       "      <th>text</th>\n",
       "    </tr>\n",
       "  </thead>\n",
       "  <tbody>\n",
       "    <tr>\n",
       "      <th>0</th>\n",
       "      <td>算法锐舞</td>\n",
       "      <td>5/20</td>\n",
       "      <td>https://mp.weixin.qq.com/s/3kbLFsL3-bEEc6XCd_fSsw</td>\n",
       "      <td>时间：6月1日周六，19:00-22:30\\n地点：SYSTEM系统（淮海中路1327号云海...</td>\n",
       "    </tr>\n",
       "    <tr>\n",
       "      <th>1</th>\n",
       "      <td>2024国际即兴编程大会</td>\n",
       "      <td>5/13</td>\n",
       "      <td>https://mp.weixin.qq.com/s/lFGIMV-BEyND_9zb-z3buA</td>\n",
       "      <td>2024国际即兴编程大会\\n2024年5月30日 - 2024年6月1日\\n中国上海·上海纽...</td>\n",
       "    </tr>\n",
       "    <tr>\n",
       "      <th>2</th>\n",
       "      <td>关于本周五晚上活动的Visceral Realists</td>\n",
       "      <td>5/26</td>\n",
       "      <td>https://mp.weixin.qq.com/s/mbwzNNSYbzsu-Pj8fsSFIQ</td>\n",
       "      <td>\\n佐那·赞合罗斯，本能现实主义的生命力来源之一，一名多媒体艺术家，常驻纽约的声音制造组合“...</td>\n",
       "    </tr>\n",
       "    <tr>\n",
       "      <th>3</th>\n",
       "      <td>5.30｜老爹的数据轰炸 Daddy’s Data Detonation</td>\n",
       "      <td>5/26</td>\n",
       "      <td>https://mp.weixin.qq.com/s/oT1r0Hif1ms8Hde2Cwb8Iw</td>\n",
       "      <td>是的，老爹又回来了，这次老爹也决定尝试点新玩意儿。他带着来自纽约的噪音组合，利用现场编程来为...</td>\n",
       "    </tr>\n",
       "    <tr>\n",
       "      <th>4</th>\n",
       "      <td>这周末 (5.31-6.02)</td>\n",
       "      <td>5.31</td>\n",
       "      <td>https://mp.weixin.qq.com/s/6vXpcunONsfrV6vxvwuBAQ</td>\n",
       "      <td>Date 时间: 5.31 8:30PM\\nVenue 地点: Yuyintang 育音堂\\...</td>\n",
       "    </tr>\n",
       "  </tbody>\n",
       "</table>\n",
       "</div>"
      ],
      "text/plain": [
       "                                  title  date  \\\n",
       "0                                  算法锐舞  5/20   \n",
       "1                          2024国际即兴编程大会  5/13   \n",
       "2           关于本周五晚上活动的Visceral Realists  5/26   \n",
       "3  5.30｜老爹的数据轰炸 Daddy’s Data Detonation  5/26   \n",
       "4                       这周末 (5.31-6.02)  5.31   \n",
       "\n",
       "                                                link  \\\n",
       "0  https://mp.weixin.qq.com/s/3kbLFsL3-bEEc6XCd_fSsw   \n",
       "1  https://mp.weixin.qq.com/s/lFGIMV-BEyND_9zb-z3buA   \n",
       "2  https://mp.weixin.qq.com/s/mbwzNNSYbzsu-Pj8fsSFIQ   \n",
       "3  https://mp.weixin.qq.com/s/oT1r0Hif1ms8Hde2Cwb8Iw   \n",
       "4  https://mp.weixin.qq.com/s/6vXpcunONsfrV6vxvwuBAQ   \n",
       "\n",
       "                                                text  \n",
       "0  时间：6月1日周六，19:00-22:30\\n地点：SYSTEM系统（淮海中路1327号云海...  \n",
       "1  2024国际即兴编程大会\\n2024年5月30日 - 2024年6月1日\\n中国上海·上海纽...  \n",
       "2  \\n佐那·赞合罗斯，本能现实主义的生命力来源之一，一名多媒体艺术家，常驻纽约的声音制造组合“...  \n",
       "3  是的，老爹又回来了，这次老爹也决定尝试点新玩意儿。他带着来自纽约的噪音组合，利用现场编程来为...  \n",
       "4  Date 时间: 5.31 8:30PM\\nVenue 地点: Yuyintang 育音堂\\...  "
      ]
     },
     "execution_count": 5,
     "metadata": {},
     "output_type": "execute_result"
    }
   ],
   "source": [
    "df"
   ]
  },
  {
   "cell_type": "code",
   "execution_count": 6,
   "id": "679960bf-eb57-4e5e-94f9-82561d6f2d14",
   "metadata": {},
   "outputs": [],
   "source": [
    "qa_translator = DoctranTextTranslator(language=\"english\", openai_api_model=\"gpt-4o\")"
   ]
  },
  {
   "cell_type": "code",
   "execution_count": 7,
   "id": "36d909b9-e0ac-44fe-b152-c28e9db50b5b",
   "metadata": {},
   "outputs": [],
   "source": [
    "async def translate_text(text):\n",
    "    document = Document(page_content=text)\n",
    "    loop = asyncio.get_event_loop()\n",
    "    response = await loop.run_in_executor(\n",
    "        None,\n",
    "        partial(\n",
    "            openai.chat.completions.create,\n",
    "            model=\"gpt-4o\",\n",
    "            messages=[\n",
    "                {\"role\": \"system\", \"content\": \"You are a translator.\"},\n",
    "                {\"role\": \"user\", \"content\": f\"Translate the following text to English: {document.page_content}\"}\n",
    "            ]\n",
    "        )\n",
    "    )\n",
    "    # print(response)\n",
    "    translated_text = response.choices[0].message.content.strip()\n",
    "    return translated_text"
   ]
  },
  {
   "cell_type": "code",
   "execution_count": 8,
   "id": "8fcc404a-d212-46f4-bf36-88c87e00c3f5",
   "metadata": {},
   "outputs": [],
   "source": [
    "async def translate_dataframe(df, column_name):\n",
    "    tasks = [translate_text(text) for text in df[column_name]]\n",
    "    translated_texts = await asyncio.gather(*tasks)\n",
    "    df['translated_text'] = translated_texts"
   ]
  },
  {
   "cell_type": "code",
   "execution_count": 9,
   "id": "0f3d4ade-2dd8-4a63-8430-874c499ef43a",
   "metadata": {},
   "outputs": [],
   "source": [
    "loop = asyncio.get_event_loop()\n",
    "loop.run_until_complete(translate_dataframe(df, 'text'))"
   ]
  },
  {
   "cell_type": "code",
   "execution_count": 10,
   "id": "fae5ce02-270d-4441-9431-ce7ebd5b20a6",
   "metadata": {},
   "outputs": [
    {
     "data": {
      "text/html": [
       "<div>\n",
       "<style scoped>\n",
       "    .dataframe tbody tr th:only-of-type {\n",
       "        vertical-align: middle;\n",
       "    }\n",
       "\n",
       "    .dataframe tbody tr th {\n",
       "        vertical-align: top;\n",
       "    }\n",
       "\n",
       "    .dataframe thead th {\n",
       "        text-align: right;\n",
       "    }\n",
       "</style>\n",
       "<table border=\"1\" class=\"dataframe\">\n",
       "  <thead>\n",
       "    <tr style=\"text-align: right;\">\n",
       "      <th></th>\n",
       "      <th>title</th>\n",
       "      <th>date</th>\n",
       "      <th>link</th>\n",
       "      <th>text</th>\n",
       "      <th>translated_text</th>\n",
       "    </tr>\n",
       "  </thead>\n",
       "  <tbody>\n",
       "    <tr>\n",
       "      <th>0</th>\n",
       "      <td>算法锐舞</td>\n",
       "      <td>5/20</td>\n",
       "      <td>https://mp.weixin.qq.com/s/3kbLFsL3-bEEc6XCd_fSsw</td>\n",
       "      <td>时间：6月1日周六，19:00-22:30\\n地点：SYSTEM系统（淮海中路1327号云海...</td>\n",
       "      <td>Time: Saturday, June 1st, 19:00-22:30\\nLocatio...</td>\n",
       "    </tr>\n",
       "    <tr>\n",
       "      <th>1</th>\n",
       "      <td>2024国际即兴编程大会</td>\n",
       "      <td>5/13</td>\n",
       "      <td>https://mp.weixin.qq.com/s/lFGIMV-BEyND_9zb-z3buA</td>\n",
       "      <td>2024国际即兴编程大会\\n2024年5月30日 - 2024年6月1日\\n中国上海·上海纽...</td>\n",
       "      <td>**2024 International Conference on Live Coding...</td>\n",
       "    </tr>\n",
       "    <tr>\n",
       "      <th>2</th>\n",
       "      <td>关于本周五晚上活动的Visceral Realists</td>\n",
       "      <td>5/26</td>\n",
       "      <td>https://mp.weixin.qq.com/s/mbwzNNSYbzsu-Pj8fsSFIQ</td>\n",
       "      <td>\\n佐那·赞合罗斯，本能现实主义的生命力来源之一，一名多媒体艺术家，常驻纽约的声音制造组合“...</td>\n",
       "      <td>Zana Zangharos, one of the vital sources of In...</td>\n",
       "    </tr>\n",
       "    <tr>\n",
       "      <th>3</th>\n",
       "      <td>5.30｜老爹的数据轰炸 Daddy’s Data Detonation</td>\n",
       "      <td>5/26</td>\n",
       "      <td>https://mp.weixin.qq.com/s/oT1r0Hif1ms8Hde2Cwb8Iw</td>\n",
       "      <td>是的，老爹又回来了，这次老爹也决定尝试点新玩意儿。他带着来自纽约的噪音组合，利用现场编程来为...</td>\n",
       "      <td>Here is the translated text:\\n\\n---\\n\\nYes, th...</td>\n",
       "    </tr>\n",
       "    <tr>\n",
       "      <th>4</th>\n",
       "      <td>这周末 (5.31-6.02)</td>\n",
       "      <td>5.31</td>\n",
       "      <td>https://mp.weixin.qq.com/s/6vXpcunONsfrV6vxvwuBAQ</td>\n",
       "      <td>Date 时间: 5.31 8:30PM\\nVenue 地点: Yuyintang 育音堂\\...</td>\n",
       "      <td>Date: 5.31 8:30PM\\nVenue: Yuyintang\\nLineup: Y...</td>\n",
       "    </tr>\n",
       "  </tbody>\n",
       "</table>\n",
       "</div>"
      ],
      "text/plain": [
       "                                  title  date  \\\n",
       "0                                  算法锐舞  5/20   \n",
       "1                          2024国际即兴编程大会  5/13   \n",
       "2           关于本周五晚上活动的Visceral Realists  5/26   \n",
       "3  5.30｜老爹的数据轰炸 Daddy’s Data Detonation  5/26   \n",
       "4                       这周末 (5.31-6.02)  5.31   \n",
       "\n",
       "                                                link  \\\n",
       "0  https://mp.weixin.qq.com/s/3kbLFsL3-bEEc6XCd_fSsw   \n",
       "1  https://mp.weixin.qq.com/s/lFGIMV-BEyND_9zb-z3buA   \n",
       "2  https://mp.weixin.qq.com/s/mbwzNNSYbzsu-Pj8fsSFIQ   \n",
       "3  https://mp.weixin.qq.com/s/oT1r0Hif1ms8Hde2Cwb8Iw   \n",
       "4  https://mp.weixin.qq.com/s/6vXpcunONsfrV6vxvwuBAQ   \n",
       "\n",
       "                                                text  \\\n",
       "0  时间：6月1日周六，19:00-22:30\\n地点：SYSTEM系统（淮海中路1327号云海...   \n",
       "1  2024国际即兴编程大会\\n2024年5月30日 - 2024年6月1日\\n中国上海·上海纽...   \n",
       "2  \\n佐那·赞合罗斯，本能现实主义的生命力来源之一，一名多媒体艺术家，常驻纽约的声音制造组合“...   \n",
       "3  是的，老爹又回来了，这次老爹也决定尝试点新玩意儿。他带着来自纽约的噪音组合，利用现场编程来为...   \n",
       "4  Date 时间: 5.31 8:30PM\\nVenue 地点: Yuyintang 育音堂\\...   \n",
       "\n",
       "                                     translated_text  \n",
       "0  Time: Saturday, June 1st, 19:00-22:30\\nLocatio...  \n",
       "1  **2024 International Conference on Live Coding...  \n",
       "2  Zana Zangharos, one of the vital sources of In...  \n",
       "3  Here is the translated text:\\n\\n---\\n\\nYes, th...  \n",
       "4  Date: 5.31 8:30PM\\nVenue: Yuyintang\\nLineup: Y...  "
      ]
     },
     "execution_count": 10,
     "metadata": {},
     "output_type": "execute_result"
    }
   ],
   "source": [
    "df"
   ]
  },
  {
   "cell_type": "code",
   "execution_count": 11,
   "id": "18f7adf6-4bc6-4373-a834-9533018b1521",
   "metadata": {},
   "outputs": [
    {
     "name": "stdin",
     "output_type": "stream",
     "text": [
      "Host:  ········\n",
      "API Key:  ········\n"
     ]
    }
   ],
   "source": [
    "es_client = elasticsearch.Elasticsearch(\n",
    "    getpass.getpass(\"Host: \"),\n",
    "    api_key=getpass.getpass(\"API Key: \"),\n",
    ")"
   ]
  },
  {
   "cell_type": "code",
   "execution_count": 12,
   "id": "d6f206f5-55a0-45a7-994c-c5efb16e3e20",
   "metadata": {},
   "outputs": [],
   "source": [
    "embedding = OpenAIEmbeddings()\n",
    "elastic_vector_search = ElasticsearchStore(\n",
    "    index_name=\"lo_tour_demo\",\n",
    "    es_connection=es_client,\n",
    "    embedding=embedding,\n",
    ")"
   ]
  },
  {
   "cell_type": "code",
   "execution_count": 13,
   "id": "ddadfc5e-e6ea-462c-a3c0-a6f2d27e0c2d",
   "metadata": {},
   "outputs": [],
   "source": [
    "translated_texts = df['translated_text'].tolist()\n",
    "combined_text = \"\\n\".join(translated_texts)\n",
    "text_splitter = CharacterTextSplitter(chunk_size=1100, chunk_overlap=0)\n",
    "docs = text_splitter.split_documents([Document(page_content=combined_text)])"
   ]
  },
  {
   "cell_type": "code",
   "execution_count": 14,
   "id": "e03ec5f1-4241-43cb-820f-5cb9fb089344",
   "metadata": {},
   "outputs": [
    {
     "data": {
      "text/plain": [
       "['9de91302-0ae8-48e5-af94-8a2c245f05f4',\n",
       " '7eaaea3e-a538-4e4d-b8f1-190b3bfdf81d',\n",
       " '17bec54a-b240-448a-bf00-a18218f828a1',\n",
       " 'e17cba09-e5a8-4ab5-a89c-3e2c8f93590f',\n",
       " 'e5f9288e-58b1-437d-b50c-0a45319bfe62',\n",
       " '92959d94-57da-4384-a906-6fe9c88e8aab',\n",
       " '3a9ae3cd-5b23-4a9e-975f-a63d41a23880',\n",
       " '223cf0f1-87f4-468d-b909-0e32ad5e68e5',\n",
       " '2ba2523e-9939-4be8-a9cb-7564f414cb84',\n",
       " '600fdecc-4c98-4288-8aff-86abb33c5e4e',\n",
       " '99b187c7-6f01-4d03-ae06-fba2e2e7273b',\n",
       " '29058d2d-d329-4b42-a215-2970f49cb75f',\n",
       " 'dcc513be-6536-4d9a-a464-4ebf6461d49e',\n",
       " '21f621c3-a008-49f4-af73-10b7f693bbcf',\n",
       " '4e835498-cfb9-4940-b6ae-22b3aed6ca7e',\n",
       " 'ec08822c-0c8e-42de-8d18-747779e347dc']"
      ]
     },
     "execution_count": 14,
     "metadata": {},
     "output_type": "execute_result"
    }
   ],
   "source": [
    "elastic_vector_search.add_documents(docs)"
   ]
  },
  {
   "cell_type": "code",
   "execution_count": 15,
   "id": "dc4ed60e-a669-466b-9db0-567cc1e9c1ef",
   "metadata": {},
   "outputs": [],
   "source": [
    "query = \"Tell me about the International Conference on Live Coding?\""
   ]
  },
  {
   "cell_type": "code",
   "execution_count": 16,
   "id": "335746b7-f287-452a-bf45-07cb653db613",
   "metadata": {},
   "outputs": [],
   "source": [
    "results = elastic_vector_search.similarity_search(query)"
   ]
  },
  {
   "cell_type": "code",
   "execution_count": 17,
   "id": "7af126be-31fd-4492-81a4-79d3482b333c",
   "metadata": {},
   "outputs": [
    {
     "name": "stdout",
     "output_type": "stream",
     "text": [
      "[Document(page_content='Since 2015, the International Conference on Live Coding (ICLC) has been dedicated to studying and practicing the use of computer code as an element of live performance. Previous conferences held in the UK, Canada, Mexico, and the Netherlands have brought together an international community, presenting key insights into this creative practice from technical, philosophical, educational, and governance perspectives.\\n\\n**Agenda Highlights**\\n\\n- First presentation of an international conference in Asia\\n- 3 days, 3 venues, 72 hours\\n- Lectures/Paper Presentations/Workshops/Concerts/Algorave (algorithmic rave) – five major content formats\\n- Over 27 international artists and groups from around the globe\\n- More than 30 exciting events throughout the conference\\n- We look forward to your participation!\\n\\nImage\\nImage\\nImage\\n* To view the English version of the agenda and artist information, please scan this QR code ⬇️\\nImage\\n\\n**Event Venues**'), Document(page_content='We look forward to your presence to enjoy this unique artistic experience and celebrate the successful conclusion of the International Conference on Live Coding!\\n\\nTicket Purchase: Onsite purchase\\n**2024 International Conference on Live Coding (ICLC)**\\nMay 30, 2024 - June 1, 2024\\nShanghai, China · NYU Shanghai\\n\\n**Event Introduction**\\n\\nLive coding involves modifying code as it is running and receiving instant feedback in front of a live audience. Since 2003, an expanding international community has been exploring this creative method that merges performing arts with interactive programming, resulting in a diverse array of unique audiovisual effects. Researchers from various disciplines, including education, dance studies, psychology, and anthropology, have also turned their attention to live coding, uncovering new research questions, methodologies, and solutions.\\n\\nImage\\nImage\\nImage\\nImage\\n\\n⬅️ Swipe left and right to see more ➡️'), Document(page_content='Time: Saturday, June 1st, 19:00-22:30\\nLocation: SYSTEM (3rd Floor, Yunhai Building, 1327 Huaihai Middle Road)\\nArtists: Zona Zanjeros, Andy Borsz, Messica Arson, Domenico Cipriani, Alo Allik, Bito, Ivan Dianov, Chunk No Reace, R Tyler, +777000, nunez\\n\\nThe 2024 International Conference on Live Coding will conclude with a unique Algorave concert. Algorave, a live coding performance set against a dance background, will be held at SYSTEM, a vibrant cultural hub in Shanghai.\\n\\nThis concert will bring together artists from the United States, the United Kingdom, Spain, and local talent from Shanghai. These artists come from diverse backgrounds, including algorithm engineers dedicated to developing cancer therapies, university professors, and interdisciplinary designers, all collaborating to create a diverse and international art stage. The performances will be varied, with a special immersive act by three American artists engaging with the audience and offering an unprecedented experience.'), Document(page_content='“The Instinct Realists” use open-source software to engage in live coding, completely omitting the traditional \"big three\" of guitar, bass, and drums—even the typical synths are absent. They use keyboard code to create a unique experience for you. Welcome to the new world. Even cooler, if you want, you can join that day and learn from the performing artists how to create using this form. Yes, the old man has also arranged teaching and Q&A sessions because he’s always been so considerate. (＾＿－)\\n\\nHonestly, when the old man first heard about this form of composition, he found it incredible. Normally, programming brings to mind images of programmers in plaid shirts carrying laptop bags and wearing black-frame glasses, not transgenders, old hands praised by New York journals as \"Today\\'s Best Noise,\" or three New Yorkers who call their art \"Arsonists.\"')]\n"
     ]
    }
   ],
   "source": [
    "print(results)"
   ]
  },
  {
   "cell_type": "code",
   "execution_count": 18,
   "id": "1d92c2bd-c29c-419b-9e36-7332772cca2f",
   "metadata": {},
   "outputs": [],
   "source": [
    "query_system = \"What's happening at System?\""
   ]
  },
  {
   "cell_type": "code",
   "execution_count": 19,
   "id": "ffc387de-16af-4649-9926-8c378f9d9915",
   "metadata": {},
   "outputs": [],
   "source": [
    "system_results = elastic_vector_search.similarity_search(query_system, k=10)"
   ]
  },
  {
   "cell_type": "code",
   "execution_count": 21,
   "id": "2f40137b-ceb8-4880-a86b-ff8c08183123",
   "metadata": {},
   "outputs": [
    {
     "name": "stdout",
     "output_type": "stream",
     "text": [
      "[Document(page_content=\"Time: Saturday, June 1st, 19:00-22:30\\nLocation: SYSTEM (3rd floor, Yungai Building, 1327 Huaihai Middle Road)\\n\\nArtists: Zona Zanjeros, Andy Borsz, Messica Arson, Domenico Cipriani, Alo Allik, Bito, Ivan Dianov, Chunk No Reace, R Tyler, +777000, nunez \\n\\nThe 2024 International Conference on Improvisational Programming will conclude with a distinctive Algorave music concert. Algorave, a form of live coding performance set to dance music, will be hosted at Shanghai's vibrant cultural hub, SYSTEM.\"), Document(page_content='Date: 5.31 10PM  \\nVenue: SYSTEM  \\nLineup: Dadaglobal, Q, DJ Gonno, Tatz, Omen, Bubble, Goga  \\nGenre: Electronic  \\n\\nDate: 5.31 10PM  \\nVenue: ALL  \\nLineup: RYOTA, DJ CO.KR, BAADAAM, 1STER, CIKA KOO, SILKBOI  \\nGenre: Electronic  \\n\\nDate: 5.31 10PM  \\nVenue: Heim  \\nLineup: Bugsy, Kensa, How?well, Cice, Jeff Chong  \\nGenre: Electronic  \\n\\nDate: 5.31 10PM  \\nVenue: Abyss  \\nLineup: ABEM, Jaya, Huizit, Done, XIWI  \\nGenre: Electronic'), Document(page_content='Date: 6.01 7PM  \\nVenue: SYSTEM  \\nLineup: Alogorave International Conference on Live Coding  \\nGenre: Electronic, Live Coding  \\n\\nDate: 6.01 10PM  \\nVenue: SYSTEM  \\nLineup: EXOS, C man, MDC, Helen Sellers, Eddie Li, Ben Huang  \\nGenre: Electronic  \\n\\nDate: 6.01 10PM  \\nVenue: ALL  \\nLineup: JJJ (live), Aru-2 (live), Warlock, Jaya, Kin.J, Muyang  \\nGenre: Electronic, Hip Hop  \\n\\nDate: 6.01 10PM  \\nVenue: Heim  \\nLineup: l0stS0uls, Velvet Robot, Chiyokoo, 小喇叭, WC7  \\nGenre: Electronic'), Document(page_content=\"ICLC 2024 will be held at NYU Shanghai, the Cadillac Shanghai Concert Hall, and System.\\nHere's the translated text:\"), Document(page_content='\"Instinct Realists\" use open-source software for live coding, with no guitar, bass, or drums in sight—not even the common synthesizer. They use computer keyboard keys to create a unique experience for you. Welcome to the new world. What\\'s even cooler is that you can learn from the performing artists how to create music in this form through the teaching and Q&A sessions that the old man has thoughtfully arranged for you. (＾＿－)'), Document(page_content=\"Yes, the old man is back again, and this time he's decided to try something new. He's brought along a noise ensemble from New York, using live coding to present a noise music performance with endless possibilities that is crazy and unimaginable. We've even arranged a teaching session, so if you're interested, you can learn how to create music in this form with them.\"), Document(page_content='To be honest, when the old man first heard about this form of composition, he also found it unbelievable. Programming typically makes us think of programmers in plaid shirts, carrying laptop bags and wearing black-frame glasses—not transgenders, hailed by New York magazines as “Today\\'s Best Noise,” and three old-timers from New York who call themselves \"Arsonists\".'), Document(page_content=\"-------------------------------\\n\\nImage\\nComplete Lineup and Reservation Link for Friday’s Event\\n2024.5.31 (Fri): VisceralRealists / sofolofo / Julia / TN / YAMAHAHA / ShuRide\\nImage\\nSure, here's the translation of the text to English:\\n\\n---\"), Document(page_content='This concert will bring together artists from the USA, the UK, Spain, and local talents from Shanghai. Their diverse backgrounds include algorithm engineers developing cancer treatments, university professors, and interdisciplinary designers, creating a diversified, international art stage. The performance style will be rich and varied, featuring an immersive performance by three American artists among the audience, providing an unprecedented experience.'), Document(page_content='The first international conference presentation in Asia  \\n3 days, 3 venues, 72 hours  \\nLectures/Paper Presentations/Workshops/Concerts/Algoraves  \\n27+ international artists and groups  \\n30+ exciting events  \\nWe look forward to your participation!\\n\\nImage  \\nImage  \\nImage  \\n* For the English version of the agenda and artist information, please scan this QR code ⬇️  \\nImage  \\n\\n**Event Venues**')]\n"
     ]
    }
   ],
   "source": [
    "print(system_results)"
   ]
  },
  {
   "cell_type": "code",
   "execution_count": null,
   "id": "a85cbbd5-6aa2-435a-b13d-7cd7c0a31b89",
   "metadata": {},
   "outputs": [],
   "source": []
  }
 ],
 "metadata": {
  "kernelspec": {
   "display_name": "Python 3 (ipykernel)",
   "language": "python",
   "name": "python3"
  },
  "language_info": {
   "codemirror_mode": {
    "name": "ipython",
    "version": 3
   },
   "file_extension": ".py",
   "mimetype": "text/x-python",
   "name": "python",
   "nbconvert_exporter": "python",
   "pygments_lexer": "ipython3",
   "version": "3.12.1"
  }
 },
 "nbformat": 4,
 "nbformat_minor": 5
}
