{
 "cells": [
  {
   "cell_type": "code",
   "execution_count": 1,
   "id": "792fa594-0ada-4375-aefb-ebccb536cdff",
   "metadata": {},
   "outputs": [],
   "source": [
    "import pandas as pd\n",
    "import asyncio\n",
    "from langchain_community.document_transformers import DoctranTextTranslator\n",
    "from langchain_core.documents import Document\n",
    "import openai\n",
    "import nest_asyncio\n",
    "from langchain.text_splitter import CharacterTextSplitter"
   ]
  },
  {
   "cell_type": "code",
   "execution_count": 2,
   "id": "6c5da02a-2f06-42d4-8e43-693ad2a143a7",
   "metadata": {},
   "outputs": [],
   "source": [
    "from langchain_elasticsearch import ElasticsearchStore\n",
    "from langchain_openai import OpenAIEmbeddings\n",
    "import elasticsearch\n",
    "import getpass\n",
    "from functools import partial"
   ]
  },
  {
   "cell_type": "code",
   "execution_count": 3,
   "id": "17b3e73e-fde8-4317-bce7-a26b831e6aaf",
   "metadata": {},
   "outputs": [],
   "source": [
    "nest_asyncio.apply()"
   ]
  },
  {
   "cell_type": "code",
   "execution_count": 4,
   "id": "451914db-8825-4e5d-a96f-56e5021c3d6d",
   "metadata": {},
   "outputs": [],
   "source": [
    "df = pd.read_csv('/Users/jessgarson/Downloads/tour_data.csv')"
   ]
  },
  {
   "cell_type": "code",
   "execution_count": 5,
   "id": "658787eb-4257-4f79-8c98-b23c03d7e8ce",
   "metadata": {},
   "outputs": [
    {
     "data": {
      "text/html": [
       "<div>\n",
       "<style scoped>\n",
       "    .dataframe tbody tr th:only-of-type {\n",
       "        vertical-align: middle;\n",
       "    }\n",
       "\n",
       "    .dataframe tbody tr th {\n",
       "        vertical-align: top;\n",
       "    }\n",
       "\n",
       "    .dataframe thead th {\n",
       "        text-align: right;\n",
       "    }\n",
       "</style>\n",
       "<table border=\"1\" class=\"dataframe\">\n",
       "  <thead>\n",
       "    <tr style=\"text-align: right;\">\n",
       "      <th></th>\n",
       "      <th>title</th>\n",
       "      <th>date</th>\n",
       "      <th>link</th>\n",
       "      <th>text</th>\n",
       "    </tr>\n",
       "  </thead>\n",
       "  <tbody>\n",
       "    <tr>\n",
       "      <th>0</th>\n",
       "      <td>算法锐舞</td>\n",
       "      <td>5/20</td>\n",
       "      <td>https://mp.weixin.qq.com/s/3kbLFsL3-bEEc6XCd_fSsw</td>\n",
       "      <td>时间：6月1日周六，19:00-22:30\\n地点：SYSTEM系统（淮海中路1327号云海...</td>\n",
       "    </tr>\n",
       "    <tr>\n",
       "      <th>1</th>\n",
       "      <td>2024国际即兴编程大会</td>\n",
       "      <td>5/13</td>\n",
       "      <td>https://mp.weixin.qq.com/s/lFGIMV-BEyND_9zb-z3buA</td>\n",
       "      <td>2024国际即兴编程大会\\n2024年5月30日 - 2024年6月1日\\n中国上海·上海纽...</td>\n",
       "    </tr>\n",
       "    <tr>\n",
       "      <th>2</th>\n",
       "      <td>关于本周五晚上活动的Visceral Realists</td>\n",
       "      <td>5/26</td>\n",
       "      <td>https://mp.weixin.qq.com/s/mbwzNNSYbzsu-Pj8fsSFIQ</td>\n",
       "      <td>\\n佐那·赞合罗斯，本能现实主义的生命力来源之一，一名多媒体艺术家，常驻纽约的声音制造组合“...</td>\n",
       "    </tr>\n",
       "    <tr>\n",
       "      <th>3</th>\n",
       "      <td>这周末 (5.31-6.02)</td>\n",
       "      <td>5.31</td>\n",
       "      <td>https://mp.weixin.qq.com/s/6vXpcunONsfrV6vxvwuBAQ</td>\n",
       "      <td>Date 时间: 5.31 8:30PM\\nVenue 地点: Yuyintang 育音堂\\...</td>\n",
       "    </tr>\n",
       "  </tbody>\n",
       "</table>\n",
       "</div>"
      ],
      "text/plain": [
       "                         title  date  \\\n",
       "0                         算法锐舞  5/20   \n",
       "1                 2024国际即兴编程大会  5/13   \n",
       "2  关于本周五晚上活动的Visceral Realists  5/26   \n",
       "3              这周末 (5.31-6.02)  5.31   \n",
       "\n",
       "                                                link  \\\n",
       "0  https://mp.weixin.qq.com/s/3kbLFsL3-bEEc6XCd_fSsw   \n",
       "1  https://mp.weixin.qq.com/s/lFGIMV-BEyND_9zb-z3buA   \n",
       "2  https://mp.weixin.qq.com/s/mbwzNNSYbzsu-Pj8fsSFIQ   \n",
       "3  https://mp.weixin.qq.com/s/6vXpcunONsfrV6vxvwuBAQ   \n",
       "\n",
       "                                                text  \n",
       "0  时间：6月1日周六，19:00-22:30\\n地点：SYSTEM系统（淮海中路1327号云海...  \n",
       "1  2024国际即兴编程大会\\n2024年5月30日 - 2024年6月1日\\n中国上海·上海纽...  \n",
       "2  \\n佐那·赞合罗斯，本能现实主义的生命力来源之一，一名多媒体艺术家，常驻纽约的声音制造组合“...  \n",
       "3  Date 时间: 5.31 8:30PM\\nVenue 地点: Yuyintang 育音堂\\...  "
      ]
     },
     "execution_count": 5,
     "metadata": {},
     "output_type": "execute_result"
    }
   ],
   "source": [
    "df"
   ]
  },
  {
   "cell_type": "code",
   "execution_count": 6,
   "id": "679960bf-eb57-4e5e-94f9-82561d6f2d14",
   "metadata": {},
   "outputs": [],
   "source": [
    "qa_translator = DoctranTextTranslator(language=\"english\", openai_api_model=\"gpt-4o\")"
   ]
  },
  {
   "cell_type": "code",
   "execution_count": 7,
   "id": "36d909b9-e0ac-44fe-b152-c28e9db50b5b",
   "metadata": {},
   "outputs": [],
   "source": [
    "async def translate_text(text):\n",
    "    document = Document(page_content=text)\n",
    "    loop = asyncio.get_event_loop()\n",
    "    response = await loop.run_in_executor(\n",
    "        None,\n",
    "        partial(\n",
    "            openai.chat.completions.create,\n",
    "            model=\"gpt-4o\",\n",
    "            messages=[\n",
    "                {\"role\": \"system\", \"content\": \"You are a translator.\"},\n",
    "                {\"role\": \"user\", \"content\": f\"Translate the following text to English: {document.page_content}\"}\n",
    "            ]\n",
    "        )\n",
    "    )\n",
    "    # print(response)\n",
    "    translated_text = response.choices[0].message.content.strip()\n",
    "    return translated_text"
   ]
  },
  {
   "cell_type": "code",
   "execution_count": 8,
   "id": "8fcc404a-d212-46f4-bf36-88c87e00c3f5",
   "metadata": {},
   "outputs": [],
   "source": [
    "async def translate_dataframe(df, column_name):\n",
    "    tasks = [translate_text(text) for text in df[column_name]]\n",
    "    translated_texts = await asyncio.gather(*tasks)\n",
    "    df['translated_text'] = translated_texts"
   ]
  },
  {
   "cell_type": "code",
   "execution_count": 9,
   "id": "0f3d4ade-2dd8-4a63-8430-874c499ef43a",
   "metadata": {},
   "outputs": [],
   "source": [
    "loop = asyncio.get_event_loop()\n",
    "loop.run_until_complete(translate_dataframe(df, 'text'))"
   ]
  },
  {
   "cell_type": "code",
   "execution_count": 10,
   "id": "fae5ce02-270d-4441-9431-ce7ebd5b20a6",
   "metadata": {},
   "outputs": [
    {
     "data": {
      "text/html": [
       "<div>\n",
       "<style scoped>\n",
       "    .dataframe tbody tr th:only-of-type {\n",
       "        vertical-align: middle;\n",
       "    }\n",
       "\n",
       "    .dataframe tbody tr th {\n",
       "        vertical-align: top;\n",
       "    }\n",
       "\n",
       "    .dataframe thead th {\n",
       "        text-align: right;\n",
       "    }\n",
       "</style>\n",
       "<table border=\"1\" class=\"dataframe\">\n",
       "  <thead>\n",
       "    <tr style=\"text-align: right;\">\n",
       "      <th></th>\n",
       "      <th>title</th>\n",
       "      <th>date</th>\n",
       "      <th>link</th>\n",
       "      <th>text</th>\n",
       "      <th>translated_text</th>\n",
       "    </tr>\n",
       "  </thead>\n",
       "  <tbody>\n",
       "    <tr>\n",
       "      <th>0</th>\n",
       "      <td>算法锐舞</td>\n",
       "      <td>5/20</td>\n",
       "      <td>https://mp.weixin.qq.com/s/3kbLFsL3-bEEc6XCd_fSsw</td>\n",
       "      <td>时间：6月1日周六，19:00-22:30\\n地点：SYSTEM系统（淮海中路1327号云海...</td>\n",
       "      <td>**Date and Time:** Saturday, June 1, 19:00-22:...</td>\n",
       "    </tr>\n",
       "    <tr>\n",
       "      <th>1</th>\n",
       "      <td>2024国际即兴编程大会</td>\n",
       "      <td>5/13</td>\n",
       "      <td>https://mp.weixin.qq.com/s/lFGIMV-BEyND_9zb-z3buA</td>\n",
       "      <td>2024国际即兴编程大会\\n2024年5月30日 - 2024年6月1日\\n中国上海·上海纽...</td>\n",
       "      <td>**2024 International Conference on Live Coding...</td>\n",
       "    </tr>\n",
       "    <tr>\n",
       "      <th>2</th>\n",
       "      <td>关于本周五晚上活动的Visceral Realists</td>\n",
       "      <td>5/26</td>\n",
       "      <td>https://mp.weixin.qq.com/s/mbwzNNSYbzsu-Pj8fsSFIQ</td>\n",
       "      <td>\\n佐那·赞合罗斯，本能现实主义的生命力来源之一，一名多媒体艺术家，常驻纽约的声音制造组合“...</td>\n",
       "      <td>Sona Zanheroth, one of the powerhouses of Inst...</td>\n",
       "    </tr>\n",
       "    <tr>\n",
       "      <th>3</th>\n",
       "      <td>这周末 (5.31-6.02)</td>\n",
       "      <td>5.31</td>\n",
       "      <td>https://mp.weixin.qq.com/s/6vXpcunONsfrV6vxvwuBAQ</td>\n",
       "      <td>Date 时间: 5.31 8:30PM\\nVenue 地点: Yuyintang 育音堂\\...</td>\n",
       "      <td>**Date:** 5.31 8:30PM  \\n**Venue:** Yuyintang ...</td>\n",
       "    </tr>\n",
       "  </tbody>\n",
       "</table>\n",
       "</div>"
      ],
      "text/plain": [
       "                         title  date  \\\n",
       "0                         算法锐舞  5/20   \n",
       "1                 2024国际即兴编程大会  5/13   \n",
       "2  关于本周五晚上活动的Visceral Realists  5/26   \n",
       "3              这周末 (5.31-6.02)  5.31   \n",
       "\n",
       "                                                link  \\\n",
       "0  https://mp.weixin.qq.com/s/3kbLFsL3-bEEc6XCd_fSsw   \n",
       "1  https://mp.weixin.qq.com/s/lFGIMV-BEyND_9zb-z3buA   \n",
       "2  https://mp.weixin.qq.com/s/mbwzNNSYbzsu-Pj8fsSFIQ   \n",
       "3  https://mp.weixin.qq.com/s/6vXpcunONsfrV6vxvwuBAQ   \n",
       "\n",
       "                                                text  \\\n",
       "0  时间：6月1日周六，19:00-22:30\\n地点：SYSTEM系统（淮海中路1327号云海...   \n",
       "1  2024国际即兴编程大会\\n2024年5月30日 - 2024年6月1日\\n中国上海·上海纽...   \n",
       "2  \\n佐那·赞合罗斯，本能现实主义的生命力来源之一，一名多媒体艺术家，常驻纽约的声音制造组合“...   \n",
       "3  Date 时间: 5.31 8:30PM\\nVenue 地点: Yuyintang 育音堂\\...   \n",
       "\n",
       "                                     translated_text  \n",
       "0  **Date and Time:** Saturday, June 1, 19:00-22:...  \n",
       "1  **2024 International Conference on Live Coding...  \n",
       "2  Sona Zanheroth, one of the powerhouses of Inst...  \n",
       "3  **Date:** 5.31 8:30PM  \\n**Venue:** Yuyintang ...  "
      ]
     },
     "execution_count": 10,
     "metadata": {},
     "output_type": "execute_result"
    }
   ],
   "source": [
    "df"
   ]
  },
  {
   "cell_type": "code",
   "execution_count": 11,
   "id": "18f7adf6-4bc6-4373-a834-9533018b1521",
   "metadata": {},
   "outputs": [
    {
     "name": "stdin",
     "output_type": "stream",
     "text": [
      "Host:  ········\n",
      "API Key:  ········\n"
     ]
    }
   ],
   "source": [
    "es_client = elasticsearch.Elasticsearch(\n",
    "    getpass.getpass(\"Host: \"),\n",
    "    api_key=getpass.getpass(\"API Key: \"),\n",
    ")"
   ]
  },
  {
   "cell_type": "code",
   "execution_count": 12,
   "id": "d6f206f5-55a0-45a7-994c-c5efb16e3e20",
   "metadata": {},
   "outputs": [],
   "source": [
    "embedding = OpenAIEmbeddings()\n",
    "elastic_vector_search = ElasticsearchStore(\n",
    "    index_name=\"vr_tour_data\",\n",
    "    es_connection=es_client,\n",
    "    embedding=embedding,\n",
    ")"
   ]
  },
  {
   "cell_type": "code",
   "execution_count": 13,
   "id": "ddadfc5e-e6ea-462c-a3c0-a6f2d27e0c2d",
   "metadata": {},
   "outputs": [],
   "source": [
    "translated_texts = df['translated_text'].tolist()\n",
    "combined_text = \"\\n\".join(translated_texts)\n",
    "text_splitter = CharacterTextSplitter(chunk_size=1100, chunk_overlap=0)\n",
    "docs = text_splitter.split_documents([Document(page_content=combined_text)])"
   ]
  },
  {
   "cell_type": "code",
   "execution_count": 14,
   "id": "e03ec5f1-4241-43cb-820f-5cb9fb089344",
   "metadata": {},
   "outputs": [
    {
     "data": {
      "text/plain": [
       "['be8a3965-5c95-47b6-a6ac-58b425b16f6c',\n",
       " '4478e7eb-fe0f-4a0d-bbea-991dbe04f9d5',\n",
       " 'b3f2eaec-dbe4-44fd-91f8-0d28631e1883',\n",
       " 'edab9ed5-b717-4684-877b-3c03b79ef980',\n",
       " '6218b115-255f-4d5b-8dcc-136f7262b94e',\n",
       " '00e91d8c-3b9d-43b1-9363-c1695544f462',\n",
       " 'f8079d6c-6e91-45b9-94fb-41717ac07c16',\n",
       " 'a3ec903a-f546-4082-b5d6-7f20b5ab09ae',\n",
       " '15734700-47aa-456b-8567-b038ec5466c6',\n",
       " 'c1565efe-b4d6-4f8a-bcf7-a3974cff23b2',\n",
       " '0dff5fa0-09e3-4176-8e42-d9e7bb2249b9']"
      ]
     },
     "execution_count": 14,
     "metadata": {},
     "output_type": "execute_result"
    }
   ],
   "source": [
    "elastic_vector_search.add_documents(docs)"
   ]
  },
  {
   "cell_type": "code",
   "execution_count": 15,
   "id": "dc4ed60e-a669-466b-9db0-567cc1e9c1ef",
   "metadata": {},
   "outputs": [],
   "source": [
    "query = \"Tell me about the International Conference on Live Coding?\""
   ]
  },
  {
   "cell_type": "code",
   "execution_count": 16,
   "id": "335746b7-f287-452a-bf45-07cb653db613",
   "metadata": {},
   "outputs": [],
   "source": [
    "results = elastic_vector_search.similarity_search(query)"
   ]
  },
  {
   "cell_type": "code",
   "execution_count": 17,
   "id": "7af126be-31fd-4492-81a4-79d3482b333c",
   "metadata": {},
   "outputs": [
    {
     "name": "stdout",
     "output_type": "stream",
     "text": [
      "[Document(page_content='Since 2015, the International Conference on Live Coding (ICLC) has been committed to researching and practicing the techniques and concepts of using computer code as a live performance element. In prior conferences held in the UK, Canada, Mexico, and the Netherlands, ICLC has gathered an international community, offering critical insights into this creative practice from various perspectives, including technical, philosophical, educational, and governance dimensions.\\n\\n**Agenda Highlights**\\n\\n- First-ever international conference presentation in Asia\\n- 3 days, 3 venues, 72 hours\\n- 5 main forms of content: talks/paper presentations, workshops, concerts, and algorithmic raves\\n- 27+ international artists and groups from around the world\\n- Over 30 exciting events throughout the conference\\n- We look forward to your participation!\\n\\n*Please scan the QR code below to view the English version of the schedule and artist information*\\nImage\\n\\n**Event Venues**'), Document(page_content='We look forward to your attendance to enjoy this unique artistic experience and to celebrate the successful conclusion of the International Conference on Live Coding!\\n\\n**Ticket Purchase:** Tickets available at the venue\\n**2024 International Conference on Live Coding**\\n**May 30, 2024 - June 1, 2024**\\n**Shanghai, China · NYU Shanghai**\\n\\n**Event Introduction**\\n\\nLive coding is a creative practice that involves modifying running code and obtaining immediate feedback, often in front of a live audience. Since 2003, a growing international community has been exploring this integrative approach, merging performing arts and interactive programming to generate diverse and unique audiovisual effects. Researchers in education, dance studies, psychology, anthropology, and many other disciplines have also begun to focus on live coding, uncovering new research questions, methodologies, and solutions.\\n\\n⬅️ Swipe left or right to see more images ➡️'), Document(page_content='**Date and Time:** Saturday, June 1, 19:00-22:30  \\n**Location:** SYSTEM (Yunhai Building, 3rd Floor, 1327 Huaihai Middle Road)  \\n**Artists:** Zona Zanjeros, Andy Borsz, Messica Arson, Domenico Cipriani, Alo Allik, Bito, Ivan Dianov, Chunk No Reace, R Tyler, +777000, nunez  \\n\\nThe 2024 International Conference on Live Coding will conclude with a unique Algorave concert. Algorave, a form of live coding performances set against a dance backdrop, will take place at SYSTEM, a vibrant cultural hub in Shanghai.\\n\\nThis concert will bring together artists from the United States, the United Kingdom, Spain, and Shanghai. These artists come from diverse backgrounds, including algorithm engineers dedicated to cancer therapy development, university professors, and multidisciplinary designers, creating a diverse and international art stage. The performances will be varied and particularly feature immersive acts by three American artists among the audience, promising an unprecedented experience.'), Document(page_content='ICLC 2024 will be held at NYU Shanghai, Cadillac Shanghai Concert Hall, and System venues.\\nSona Zanheroth, one of the powerhouses of Instinctive Realism, is a multimedia artist and a core member of the New York-based sound production ensemble \"Computer.\" To resist the commercialization of art, Sona utilizes open-source software like \"SuperCollider\" and \"Puredata\" for sound exploration. As a participant in Instinctive Realism, Sona breaks boundaries, transforming samples and musical works derived from \"SuperCollider.\" Sona\\'s performances challenge norms, blending tradition with digitalization, inviting the audience to experience the ever-changing technological advancements. Through a dialectical interaction with technology, Sona portrays both fear and attraction, crafting experiences that are tense and introspective. Sona Zanheroth\\'s works create a resonant warning, reminding people to cautiously wield the world-shattering power of technology in the vast world imbued with nature. Sona has also performed and recorded with musicians like Elliott Sharp and Weasel Walter.')]\n"
     ]
    }
   ],
   "source": [
    "print(results)"
   ]
  },
  {
   "cell_type": "code",
   "execution_count": 18,
   "id": "1d92c2bd-c29c-419b-9e36-7332772cca2f",
   "metadata": {},
   "outputs": [],
   "source": [
    "query_system = \"What's happening at System?\""
   ]
  },
  {
   "cell_type": "code",
   "execution_count": 19,
   "id": "ffc387de-16af-4649-9926-8c378f9d9915",
   "metadata": {},
   "outputs": [],
   "source": [
    "system_results = elastic_vector_search.similarity_search(query_system, k=10)"
   ]
  },
  {
   "cell_type": "code",
   "execution_count": 20,
   "id": "2f40137b-ceb8-4880-a86b-ff8c08183123",
   "metadata": {},
   "outputs": [
    {
     "name": "stdout",
     "output_type": "stream",
     "text": [
      "[Document(page_content='**Date and Time:** Saturday, June 1, 19:00-22:30  \\n**Location:** SYSTEM (Yunhai Building, 3rd Floor, 1327 Huaihai Middle Road)  \\n**Artists:** Zona Zanjeros, Andy Borsz, Messica Arson, Domenico Cipriani, Alo Allik, Bito, Ivan Dianov, Chunk No Reace, R Tyler, +777000, nunez  \\n\\nThe 2024 International Conference on Live Coding will conclude with a unique Algorave concert. Algorave, a form of live coding performances set against a dance backdrop, will take place at SYSTEM, a vibrant cultural hub in Shanghai.\\n\\nThis concert will bring together artists from the United States, the United Kingdom, Spain, and Shanghai. These artists come from diverse backgrounds, including algorithm engineers dedicated to cancer therapy development, university professors, and multidisciplinary designers, creating a diverse and international art stage. The performances will be varied and particularly feature immersive acts by three American artists among the audience, promising an unprecedented experience.'), Document(page_content='ICLC 2024 will be held at NYU Shanghai, Cadillac Shanghai Concert Hall, and System venues.\\nSona Zanheroth, one of the powerhouses of Instinctive Realism, is a multimedia artist and a core member of the New York-based sound production ensemble \"Computer.\" To resist the commercialization of art, Sona utilizes open-source software like \"SuperCollider\" and \"Puredata\" for sound exploration. As a participant in Instinctive Realism, Sona breaks boundaries, transforming samples and musical works derived from \"SuperCollider.\" Sona\\'s performances challenge norms, blending tradition with digitalization, inviting the audience to experience the ever-changing technological advancements. Through a dialectical interaction with technology, Sona portrays both fear and attraction, crafting experiences that are tense and introspective. Sona Zanheroth\\'s works create a resonant warning, reminding people to cautiously wield the world-shattering power of technology in the vast world imbued with nature. Sona has also performed and recorded with musicians like Elliott Sharp and Weasel Walter.'), Document(page_content=\"**Date:** 5.31 8PM  \\n**Venue:** The Boxx  \\n**Lineup:** Xi Yuan, Wang Ziming, Yang Qiuru  \\n**Genre:** Hip Hop\\n\\n**Date:** 5.31 10PM  \\n**Venue:** SYSTEM  \\n**Lineup:** Dadaglobal, Q, DJ Gonno, Tatz, Omen, Bubble, Goga  \\n**Genre:** Electronic\\n\\n**Date:** 5.31 10PM  \\n**Venue:** ALL  \\n**Lineup:** RYOTA, DJ CO.KR, BAADAAM, 1STER, CIKA KOO, SILKBOI  \\n**Genre:** Electronic\\n\\n**Date:** 5.31 10PM  \\n**Venue:** Heim  \\n**Lineup:** Bugsy, Kensa, How?well, Cice, Jeff Chong  \\n**Genre:** Electronic\\n\\n**Date:** 5.31 10PM  \\n**Venue:** Abyss  \\n**Lineup:** ABEM, Jaya, Huizit, Done, XIWI  \\n**Genre:** Electronic\\n\\n**Date:** 5.31 10PM  \\n**Venue:** C's Bar  \\n**Lineup:** Revolving Local DJs, Nervous Whistle, Africana Latte, Lily Es Taj  \\n**Genre:** Electronic, DJs, Party\\n\\n**Date:** 6.01 8:30PM  \\n**Venue:** Singer Space  \\n**Lineup:** The Upside Down  \\n**Genre:** Disco Pop, Synth Pop, Indie\\n\\n**Date:** 6.01 8PM  \\n**Venue:** Yuyintang Park  \\n**Lineup:** MAMAHUHU, The Perfect Holiday, 1000 Failures  \\n**Genre:** Pop Rock, Pop Punk, Emo, Rock\"), Document(page_content='Since 2015, the International Conference on Live Coding (ICLC) has been committed to researching and practicing the techniques and concepts of using computer code as a live performance element. In prior conferences held in the UK, Canada, Mexico, and the Netherlands, ICLC has gathered an international community, offering critical insights into this creative practice from various perspectives, including technical, philosophical, educational, and governance dimensions.\\n\\n**Agenda Highlights**\\n\\n- First-ever international conference presentation in Asia\\n- 3 days, 3 venues, 72 hours\\n- 5 main forms of content: talks/paper presentations, workshops, concerts, and algorithmic raves\\n- 27+ international artists and groups from around the world\\n- Over 30 exciting events throughout the conference\\n- We look forward to your participation!\\n\\n*Please scan the QR code below to view the English version of the schedule and artist information*\\nImage\\n\\n**Event Venues**'), Document(page_content='We look forward to your attendance to enjoy this unique artistic experience and to celebrate the successful conclusion of the International Conference on Live Coding!\\n\\n**Ticket Purchase:** Tickets available at the venue\\n**2024 International Conference on Live Coding**\\n**May 30, 2024 - June 1, 2024**\\n**Shanghai, China · NYU Shanghai**\\n\\n**Event Introduction**\\n\\nLive coding is a creative practice that involves modifying running code and obtaining immediate feedback, often in front of a live audience. Since 2003, a growing international community has been exploring this integrative approach, merging performing arts and interactive programming to generate diverse and unique audiovisual effects. Researchers in education, dance studies, psychology, anthropology, and many other disciplines have also begun to focus on live coding, uncovering new research questions, methodologies, and solutions.\\n\\n⬅️ Swipe left or right to see more images ➡️'), Document(page_content=\"**Date:** 6.01 10PM  \\n**Venue:** Heim  \\n**Lineup:** l0stS0uls, Velvet Robot, Chiyokoo, 小喇叭, WC7  \\n**Genre:** Electronic\\n\\n**Date:** 6.01 10PM  \\n**Venue:** Abyss  \\n**Lineup:** Vladimir Dubyshkin (live), Lucretio, .upDXyI, Goga, Laglory  \\n**Genre:** Electronic\\n\\n**Date:** 6.01 10PM  \\n**Venue:** C's Bar  \\n**Lineup:** Baguette x Croissant  \\n**Genre:** Electronic\\n\\n**Date:** 6.02 8PM  \\n**Venue:** Yuyintang  \\n**Lineup:** Vanishing Queen, Tengguang Agency, Acid Room  \\n**Genre:** Indie, Noise Rock, Math Rock, Garage Rock\\n\\n**Date:** 6.02 8PM  \\n**Venue:** Yuyintang Park  \\n**Lineup:** Since TMRW  \\n**Genre:** Indie Pop\\n\\n**Date:** 6.02 5:30PM  \\n**Venue:** Ale Garden  \\n**Lineup:** Nihilist Sal's Gathering, Bathroom Fugue, Modern Kids Flying Type, Strong Liquor, 2x Speed Timer, Color of the Backyard, Li He, Wang Xian, Possible Improvisation  \\n**Genre:** Indie, Alt\\n\\n**Date:** 6.02 6PM  \\n**Venue:** The Boxx  \\n**Lineup:** The Dark Prison Massacre, Lie To The Silence, VANTA, Leviathan, Freezing of Time, Armed Conflict  \\n**Genre:** Metal\"), Document(page_content='**Date:** 6.02 8PM  \\n**Venue:** Singer Space  \\n**Lineup:** PAPUN BAND, Shiny Shiny  \\n**Genre:** Pop, Indie\\n\\n**Date:** 6.02 8:30PM  \\n**Venue:** Mao Livehouse  \\n**Lineup:** Steely Heart  \\n**Genre:** Punk, Garage, Rock\\n\\n**Date:** 6.02 8PM  \\n**Venue:** Modernsky Lab  \\n**Lineup:** Mango Jump  \\n**Genre:** Indie Pop\\n\\n**Date:** 6.02 8PM  \\n**Venue:** Bandai Namco  \\n**Lineup:** Borges Zhong Lifeng  \\n**Genre:** Rock\\n\\n**Date:** 6.02 8PM  \\n**Venue:** Keep It Quiet  \\n**Lineup:** Zhu Fangqiong, Shi Lei  \\n**Genre:** Improvisational, World Music\\n\\n**Date:** 6.02 9PM  \\n**Venue:** ALL  \\n**Lineup:** Aroll, Jinsfake, Rochaos, HBD, SouthSideSamurai  \\n**Genre:** Electronic, Beats'), Document(page_content='Messaika Arson (translator\\'s note: the original word for Arson also means arsonist) is the newest member of Instinctive Realism. She bravely entered live coding in 2017 while looking for performance opportunities for her solo punk project, using Sonic Pi for the creation of the project. Since then, her sound has undergone significant changes, integrating everyday samples, modular synthesis, and live coding in her creations, resulting in a unique presentation. An essential part of her music is the incorporation of screams, adding a layer of wildness to it. Messaika has showcased her talents worldwide, primarily performing in the United States, Canada, and Europe. She has opened for renowned artists, including Oliver Ackerman from the band \"A Place to Bury Strangers\" and Eric Schlappi from Schlappi Engineering. Since 2017, she has been an active member of LivecodeNYC, an organization that produces music through live coding in a non-hierarchical management structure. She plays a crucial role in organizing and planning joint performances within the organization.'), Document(page_content='**Date:** 6.01 8:30PM  \\n**Venue:** Yuyintang  \\n**Lineup:** Deng Bolun, GANNIX, Quan Quan  \\n**Genre:** Indie, Funk, Indie Pop\\n\\n**Date:** 6.01 8:30PM  \\n**Venue:** Modernsky Lab  \\n**Lineup:** Cao Fang  \\n**Genre:** Pop, Folk\\n\\n**Date:** 6.01 5:30PM  \\n**Venue:** NEO  \\n**Lineup:** hunmanless, timeless, nameless  \\n**Genre:** Rock, Metal\\n\\n**Date:** 6.01 8PM  \\n**Venue:** Beach No.11  \\n**Lineup:** Pink Berry, Unnamed, MIMO  \\n**Genre:** Indie, Rock, Pop\\n\\n**Date:** 6.01 8PM  \\n**Venue:** PHASE  \\n**Lineup:** Hu Haiquan  \\n**Genre:** Pop\\n\\n**Date:** 6.01 8PM  \\n**Venue:** VAS  \\n**Lineup:** UKEBOX  \\n**Genre:** Ukulele\\n\\n**Date:** 6.01 7PM  \\n**Venue:** SYSTEM  \\n**Lineup:** Alogorave International Conference on Live Coding  \\n**Genre:** Electronic, Live Coding\\n\\n**Date:** 6.01 10PM  \\n**Venue:** SYSTEM  \\n**Lineup:** EXOS, C man, MDC, Helen Sellers, Eddie Li, Ben Huang  \\n**Genre:** Electronic\\n\\n**Date:** 6.01 10PM  \\n**Venue:** ALL  \\n**Lineup:** JJJ (live), Aru-2 (live), Warlock, Jaya, Kin.J, Muyang  \\n**Genre:** Electronic, Hip Hop'), Document(page_content=\"Complete Lineup and Reservation Link for Friday's Event\\n2024.5.31 (Fri): Visceral Realists/sofolofo/Julia/TN/YAMAHAHA/ShuRide\\n**Date:** 5.31 8:30PM  \\n**Venue:** Yuyintang  \\n**Lineup:** YunJing  \\n**Genre:** Grunge, Punk, Indie\\n\\n**Date:** 5.31 9PM  \\n**Venue:** Yuyintang Park  \\n**Lineup:** Hogchoker, HEY!LILY!, Round Eye  \\n**Genre:** Punk, Rock, Indie, Ska, Garage, Madness\\n\\n**Date:** 5.31 7:30PM  \\n**Venue:** trigger  \\n**Lineup:** Visceral Realists, sofolofo, Julia Dèng Hànzú, Torturing Nurse, YAMAHAHA, Shu Ride  \\n**Genre:** Experimental, Noise\\n\\n**Date:** 5.31 8PM  \\n**Venue:** VAS  \\n**Lineup:** icyball, A Little Conversation  \\n**Genre:** Indie, Pop, Hip Hop, Indie Pop\\n\\n**Date:** 5.31 8:30PM  \\n**Venue:** Bandai Namco  \\n**Lineup:** Qi Zitan  \\n**Genre:** Pop, Folk, Dream Pop\\n\\n**Date:** 5.31 8:30PM  \\n**Venue:** Mao Livehouse  \\n**Lineup:** The Brownie Band  \\n**Genre:** Indie Pop\\n\\n**Date:** 5.31 9PM  \\n**Venue:** Harley's Backroom  \\n**Lineup:** Full Throttle, Billy's Trio, Mojo Peace, Green Tongues  \\n**Genre:** Rock, Covers\")]\n"
     ]
    }
   ],
   "source": [
    "print(system_results)"
   ]
  },
  {
   "cell_type": "code",
   "execution_count": null,
   "id": "a85cbbd5-6aa2-435a-b13d-7cd7c0a31b89",
   "metadata": {},
   "outputs": [],
   "source": []
  }
 ],
 "metadata": {
  "kernelspec": {
   "display_name": "Python 3 (ipykernel)",
   "language": "python",
   "name": "python3"
  },
  "language_info": {
   "codemirror_mode": {
    "name": "ipython",
    "version": 3
   },
   "file_extension": ".py",
   "mimetype": "text/x-python",
   "name": "python",
   "nbconvert_exporter": "python",
   "pygments_lexer": "ipython3",
   "version": "3.12.1"
  }
 },
 "nbformat": 4,
 "nbformat_minor": 5
}
