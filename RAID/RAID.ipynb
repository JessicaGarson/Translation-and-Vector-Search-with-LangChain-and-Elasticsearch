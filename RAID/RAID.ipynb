{
 "cells": [
  {
   "cell_type": "code",
   "execution_count": 1,
   "id": "d2fd3309-628e-426b-a7e3-57b5b23c44f2",
   "metadata": {},
   "outputs": [],
   "source": [
    "import pandas as pd\n",
    "import asyncio\n",
    "from langchain_core.documents import Document\n",
    "import openai\n",
    "import nest_asyncio\n",
    "from langchain.text_splitter import CharacterTextSplitter"
   ]
  },
  {
   "cell_type": "code",
   "execution_count": 2,
   "id": "053b5239-85b9-4c5a-a83c-3761f5564fb3",
   "metadata": {},
   "outputs": [],
   "source": [
    "from langchain_elasticsearch import ElasticsearchStore\n",
    "from langchain_openai import OpenAIEmbeddings\n",
    "import elasticsearch\n",
    "import getpass\n",
    "from functools import partial\n",
    "from datasets import load_dataset"
   ]
  },
  {
   "cell_type": "code",
   "execution_count": 3,
   "id": "002f007c-9beb-4b3f-b642-2c7b66749938",
   "metadata": {},
   "outputs": [],
   "source": [
    "from langchain_elasticsearch import ElasticsearchRetriever\n",
    "from langchain_openai import ChatOpenAI\n",
    "from langchain_core.runnables import RunnablePassthrough\n",
    "from langchain_core.prompts import ChatPromptTemplate\n",
    "from langchain_core.output_parsers import StrOutputParser\n",
    "from langchain_core.prompts import format_document\n",
    "from langchain.prompts.prompt import PromptTemplate\n",
    "import os"
   ]
  },
  {
   "cell_type": "code",
   "execution_count": 4,
   "id": "636b7220-bb5e-4089-8716-990d7885d2c0",
   "metadata": {},
   "outputs": [],
   "source": [
    "nest_asyncio.apply()"
   ]
  },
  {
   "cell_type": "code",
   "execution_count": 5,
   "id": "3444a580-05ae-442c-8b95-eaa510849c7d",
   "metadata": {},
   "outputs": [],
   "source": [
    "ds = pd.read_csv('/Users/jessgarson/Downloads/tour_data.csv')"
   ]
  },
  {
   "cell_type": "code",
   "execution_count": 6,
   "id": "793278c3-024f-44fb-a342-795246a615d5",
   "metadata": {},
   "outputs": [
    {
     "data": {
      "text/html": [
       "<div>\n",
       "<style scoped>\n",
       "    .dataframe tbody tr th:only-of-type {\n",
       "        vertical-align: middle;\n",
       "    }\n",
       "\n",
       "    .dataframe tbody tr th {\n",
       "        vertical-align: top;\n",
       "    }\n",
       "\n",
       "    .dataframe thead th {\n",
       "        text-align: right;\n",
       "    }\n",
       "</style>\n",
       "<table border=\"1\" class=\"dataframe\">\n",
       "  <thead>\n",
       "    <tr style=\"text-align: right;\">\n",
       "      <th></th>\n",
       "      <th>title</th>\n",
       "      <th>date</th>\n",
       "      <th>link</th>\n",
       "      <th>text</th>\n",
       "    </tr>\n",
       "  </thead>\n",
       "  <tbody>\n",
       "    <tr>\n",
       "      <th>0</th>\n",
       "      <td>算法锐舞</td>\n",
       "      <td>5/20</td>\n",
       "      <td>https://mp.weixin.qq.com/s/3kbLFsL3-bEEc6XCd_fSsw</td>\n",
       "      <td>时间：6月1日周六，19:00-22:30\\n地点：SYSTEM系统（淮海中路1327号云海...</td>\n",
       "    </tr>\n",
       "    <tr>\n",
       "      <th>1</th>\n",
       "      <td>2024国际即兴编程大会</td>\n",
       "      <td>5/13</td>\n",
       "      <td>https://mp.weixin.qq.com/s/lFGIMV-BEyND_9zb-z3buA</td>\n",
       "      <td>2024国际即兴编程大会\\n2024年5月30日 - 2024年6月1日\\n中国上海·上海纽...</td>\n",
       "    </tr>\n",
       "    <tr>\n",
       "      <th>2</th>\n",
       "      <td>关于本周五晚上活动的Visceral Realists</td>\n",
       "      <td>5/26</td>\n",
       "      <td>https://mp.weixin.qq.com/s/mbwzNNSYbzsu-Pj8fsSFIQ</td>\n",
       "      <td>\\n佐那·赞合罗斯，本能现实主义的生命力来源之一，一名多媒体艺术家，常驻纽约的声音制造组合“...</td>\n",
       "    </tr>\n",
       "    <tr>\n",
       "      <th>3</th>\n",
       "      <td>这周末 (5.31-6.02)</td>\n",
       "      <td>5.31</td>\n",
       "      <td>https://mp.weixin.qq.com/s/6vXpcunONsfrV6vxvwuBAQ</td>\n",
       "      <td>Date 时间: 5.31 8:30PM\\nVenue 地点: Yuyintang 育音堂\\...</td>\n",
       "    </tr>\n",
       "  </tbody>\n",
       "</table>\n",
       "</div>"
      ],
      "text/plain": [
       "                         title  date  \\\n",
       "0                         算法锐舞  5/20   \n",
       "1                 2024国际即兴编程大会  5/13   \n",
       "2  关于本周五晚上活动的Visceral Realists  5/26   \n",
       "3              这周末 (5.31-6.02)  5.31   \n",
       "\n",
       "                                                link  \\\n",
       "0  https://mp.weixin.qq.com/s/3kbLFsL3-bEEc6XCd_fSsw   \n",
       "1  https://mp.weixin.qq.com/s/lFGIMV-BEyND_9zb-z3buA   \n",
       "2  https://mp.weixin.qq.com/s/mbwzNNSYbzsu-Pj8fsSFIQ   \n",
       "3  https://mp.weixin.qq.com/s/6vXpcunONsfrV6vxvwuBAQ   \n",
       "\n",
       "                                                text  \n",
       "0  时间：6月1日周六，19:00-22:30\\n地点：SYSTEM系统（淮海中路1327号云海...  \n",
       "1  2024国际即兴编程大会\\n2024年5月30日 - 2024年6月1日\\n中国上海·上海纽...  \n",
       "2  \\n佐那·赞合罗斯，本能现实主义的生命力来源之一，一名多媒体艺术家，常驻纽约的声音制造组合“...  \n",
       "3  Date 时间: 5.31 8:30PM\\nVenue 地点: Yuyintang 育音堂\\...  "
      ]
     },
     "execution_count": 6,
     "metadata": {},
     "output_type": "execute_result"
    }
   ],
   "source": [
    "ds"
   ]
  },
  {
   "cell_type": "code",
   "execution_count": 7,
   "id": "671d9e65-9c9b-47ac-93ff-7ae11463befa",
   "metadata": {},
   "outputs": [],
   "source": [
    "async def translate_text(text):\n",
    "    document = Document(page_content=text)\n",
    "    loop = asyncio.get_event_loop()\n",
    "    response = await loop.run_in_executor(\n",
    "        None,\n",
    "        partial(\n",
    "            openai.chat.completions.create,\n",
    "            model=\"gpt-4o\",\n",
    "            messages=[\n",
    "                {\"role\": \"system\", \"content\": \"You are a translator.\"},\n",
    "                {\n",
    "                    \"role\": \"user\",\n",
    "                    \"content\": f\"Translate the following text to English: {document.page_content}\",\n",
    "                },\n",
    "            ],\n",
    "        ),\n",
    "    )\n",
    "    translated_text = response.choices[0].message.content.strip()\n",
    "    return translated_text"
   ]
  },
  {
   "cell_type": "code",
   "execution_count": 8,
   "id": "59a2c091-1340-405e-83c7-fd0974b83a88",
   "metadata": {},
   "outputs": [],
   "source": [
    "async def translate_dataframe(ds, column_name):\n",
    "    tasks_column = [translate_text(text) for text in ds[column_name]]\n",
    "    translated_texts = await asyncio.gather(*tasks_column)\n",
    "    ds[\"translated_\" + column_name] = translated_texts\n",
    "    return ds"
   ]
  },
  {
   "cell_type": "code",
   "execution_count": 9,
   "id": "a7a11e29-35f8-4748-83fb-a887502f856d",
   "metadata": {},
   "outputs": [
    {
     "data": {
      "text/html": [
       "<div>\n",
       "<style scoped>\n",
       "    .dataframe tbody tr th:only-of-type {\n",
       "        vertical-align: middle;\n",
       "    }\n",
       "\n",
       "    .dataframe tbody tr th {\n",
       "        vertical-align: top;\n",
       "    }\n",
       "\n",
       "    .dataframe thead th {\n",
       "        text-align: right;\n",
       "    }\n",
       "</style>\n",
       "<table border=\"1\" class=\"dataframe\">\n",
       "  <thead>\n",
       "    <tr style=\"text-align: right;\">\n",
       "      <th></th>\n",
       "      <th>title</th>\n",
       "      <th>date</th>\n",
       "      <th>link</th>\n",
       "      <th>text</th>\n",
       "      <th>translated_text</th>\n",
       "    </tr>\n",
       "  </thead>\n",
       "  <tbody>\n",
       "    <tr>\n",
       "      <th>0</th>\n",
       "      <td>算法锐舞</td>\n",
       "      <td>5/20</td>\n",
       "      <td>https://mp.weixin.qq.com/s/3kbLFsL3-bEEc6XCd_fSsw</td>\n",
       "      <td>时间：6月1日周六，19:00-22:30\\n地点：SYSTEM系统（淮海中路1327号云海...</td>\n",
       "      <td>Time: Saturday, June 1st, 19:00-22:30  \\nLocat...</td>\n",
       "    </tr>\n",
       "    <tr>\n",
       "      <th>1</th>\n",
       "      <td>2024国际即兴编程大会</td>\n",
       "      <td>5/13</td>\n",
       "      <td>https://mp.weixin.qq.com/s/lFGIMV-BEyND_9zb-z3buA</td>\n",
       "      <td>2024国际即兴编程大会\\n2024年5月30日 - 2024年6月1日\\n中国上海·上海纽...</td>\n",
       "      <td>2024 International Conference on Live Coding  ...</td>\n",
       "    </tr>\n",
       "    <tr>\n",
       "      <th>2</th>\n",
       "      <td>关于本周五晚上活动的Visceral Realists</td>\n",
       "      <td>5/26</td>\n",
       "      <td>https://mp.weixin.qq.com/s/mbwzNNSYbzsu-Pj8fsSFIQ</td>\n",
       "      <td>\\n佐那·赞合罗斯，本能现实主义的生命力来源之一，一名多媒体艺术家，常驻纽约的声音制造组合“...</td>\n",
       "      <td>Sana Zanhuerros, a source of vitality for inst...</td>\n",
       "    </tr>\n",
       "    <tr>\n",
       "      <th>3</th>\n",
       "      <td>这周末 (5.31-6.02)</td>\n",
       "      <td>5.31</td>\n",
       "      <td>https://mp.weixin.qq.com/s/6vXpcunONsfrV6vxvwuBAQ</td>\n",
       "      <td>Date 时间: 5.31 8:30PM\\nVenue 地点: Yuyintang 育音堂\\...</td>\n",
       "      <td>Date: 5.31 8:30 PM  \\nVenue: Yuyintang  \\nLine...</td>\n",
       "    </tr>\n",
       "  </tbody>\n",
       "</table>\n",
       "</div>"
      ],
      "text/plain": [
       "                         title  date  \\\n",
       "0                         算法锐舞  5/20   \n",
       "1                 2024国际即兴编程大会  5/13   \n",
       "2  关于本周五晚上活动的Visceral Realists  5/26   \n",
       "3              这周末 (5.31-6.02)  5.31   \n",
       "\n",
       "                                                link  \\\n",
       "0  https://mp.weixin.qq.com/s/3kbLFsL3-bEEc6XCd_fSsw   \n",
       "1  https://mp.weixin.qq.com/s/lFGIMV-BEyND_9zb-z3buA   \n",
       "2  https://mp.weixin.qq.com/s/mbwzNNSYbzsu-Pj8fsSFIQ   \n",
       "3  https://mp.weixin.qq.com/s/6vXpcunONsfrV6vxvwuBAQ   \n",
       "\n",
       "                                                text  \\\n",
       "0  时间：6月1日周六，19:00-22:30\\n地点：SYSTEM系统（淮海中路1327号云海...   \n",
       "1  2024国际即兴编程大会\\n2024年5月30日 - 2024年6月1日\\n中国上海·上海纽...   \n",
       "2  \\n佐那·赞合罗斯，本能现实主义的生命力来源之一，一名多媒体艺术家，常驻纽约的声音制造组合“...   \n",
       "3  Date 时间: 5.31 8:30PM\\nVenue 地点: Yuyintang 育音堂\\...   \n",
       "\n",
       "                                     translated_text  \n",
       "0  Time: Saturday, June 1st, 19:00-22:30  \\nLocat...  \n",
       "1  2024 International Conference on Live Coding  ...  \n",
       "2  Sana Zanhuerros, a source of vitality for inst...  \n",
       "3  Date: 5.31 8:30 PM  \\nVenue: Yuyintang  \\nLine...  "
      ]
     },
     "execution_count": 9,
     "metadata": {},
     "output_type": "execute_result"
    }
   ],
   "source": [
    "loop = asyncio.get_event_loop()\n",
    "loop.run_until_complete(translate_dataframe(ds, \"text\"))"
   ]
  },
  {
   "cell_type": "code",
   "execution_count": 16,
   "id": "c8b2fb27-da83-4ebf-8218-7061b04a2955",
   "metadata": {},
   "outputs": [
    {
     "name": "stdin",
     "output_type": "stream",
     "text": [
      "Host:  ········\n",
      "API Key:  ········\n"
     ]
    }
   ],
   "source": [
    "es_client = elasticsearch.Elasticsearch(\n",
    "    getpass.getpass(\"Host: \"),\n",
    "    api_key=getpass.getpass(\"API Key: \"),\n",
    ")"
   ]
  },
  {
   "cell_type": "code",
   "execution_count": 17,
   "id": "2d6d634c-c939-4684-9aa7-2ce4b8a68c44",
   "metadata": {},
   "outputs": [
    {
     "name": "stdout",
     "output_type": "stream",
     "text": [
      "Created new index: raid\n"
     ]
    }
   ],
   "source": [
    "index_name = \"raid\"\n",
    "\n",
    "if es_client.indices.exists(index=index_name):\n",
    "    es_client.indices.delete(index=index_name)\n",
    "    print(f\"Deleted existing index: {index_name}\")\n",
    "\n",
    "es_client.indices.create(index=index_name)\n",
    "print(f\"Created new index: {index_name}\")"
   ]
  },
  {
   "cell_type": "code",
   "execution_count": 18,
   "id": "7adcbf1d-97c7-4bd4-a44b-8ef13c4c2b0a",
   "metadata": {},
   "outputs": [],
   "source": [
    "embedding = OpenAIEmbeddings(model=\"text-embedding-3-large\")"
   ]
  },
  {
   "cell_type": "code",
   "execution_count": 22,
   "id": "06351271-2440-4b34-85c4-6c97a35da694",
   "metadata": {},
   "outputs": [],
   "source": [
    "elastic_vector_search = ElasticsearchStore(\n",
    "    index_name=index_name,\n",
    "    es_connection=es_client,\n",
    "    embedding=embedding,\n",
    ")"
   ]
  },
  {
   "cell_type": "code",
   "execution_count": 25,
   "id": "d1ea2254-48b5-46f7-8e19-e59c2b66b36d",
   "metadata": {},
   "outputs": [],
   "source": [
    "translated_texts = ds[\"translated_text\"].tolist()\n",
    "combined_text = \"\\n\".join(translated_texts)\n",
    "text_splitter = CharacterTextSplitter(chunk_size=1500, chunk_overlap=50)\n",
    "docs = text_splitter.split_documents([Document(page_content=combined_text)])"
   ]
  },
  {
   "cell_type": "code",
   "execution_count": 26,
   "id": "0ed102dd-4867-43bd-b1f9-5e8599bbce29",
   "metadata": {},
   "outputs": [
    {
     "data": {
      "text/plain": [
       "['0ec97922-f1e1-41f6-9264-c8e20cb87b28',\n",
       " 'da5a451d-0567-429c-b534-7f2e47fe3c61',\n",
       " '8b35571e-80dd-44fa-80e4-79b331c7bcf8',\n",
       " '9088eb26-74a0-43e0-8d4a-ab0f6bb0d0bb',\n",
       " 'b2a9d567-040f-4be4-98a4-1472ecec509e',\n",
       " 'f191bd44-10b3-427c-8501-f507f16780b0',\n",
       " 'b4124365-de2e-42cc-9cc3-d75c1bacffb1',\n",
       " '9e92955a-1ede-4e34-a21d-0ac82e411179']"
      ]
     },
     "execution_count": 26,
     "metadata": {},
     "output_type": "execute_result"
    }
   ],
   "source": [
    "elastic_vector_search.add_documents(docs)"
   ]
  },
  {
   "cell_type": "code",
   "execution_count": 27,
   "id": "99c3d255-163a-4f27-a69a-a80d19451f17",
   "metadata": {},
   "outputs": [],
   "source": [
    "def build_query(query):\n",
    "    return {\n",
    "        \"retriever\": {\n",
    "            \"standard\": {\n",
    "                \"query\": {\n",
    "                    \"multi_match\": {\n",
    "                        \"query\": query,\n",
    "                        \"fields\": [\n",
    "                            \"text\"\n",
    "                        ]\n",
    "                    }\n",
    "                }\n",
    "            }\n",
    "        }\n",
    "    }"
   ]
  },
  {
   "cell_type": "code",
   "execution_count": 28,
   "id": "69ba85ea-975b-4f7a-a7dd-403e8292921d",
   "metadata": {},
   "outputs": [],
   "source": [
    "index_source_fields = {\n",
    "    \"raid\": \"text\"\n",
    "}\n",
    "\n",
    "retriever = ElasticsearchRetriever(\n",
    "    index_name=\"raid\",\n",
    "    body_func=build_query,\n",
    "    content_field=index_source_fields,\n",
    "    es_client=es_client\n",
    ")"
   ]
  },
  {
   "cell_type": "code",
   "execution_count": 33,
   "id": "0eb1c0a1-aac8-45e4-aee1-0a411551dc66",
   "metadata": {},
   "outputs": [],
   "source": [
    "model = ChatOpenAI(openai_api_key=os.environ[\"OPENAI_API_KEY\"], model_name=\"gpt-4o\")"
   ]
  },
  {
   "cell_type": "code",
   "execution_count": 34,
   "id": "82ea63da-de45-47e5-bf36-9121b9df272c",
   "metadata": {},
   "outputs": [],
   "source": [
    "ANSWER_PROMPT = ChatPromptTemplate.from_template(\n",
    "    \"\"\"\n",
    "  Instructions:\n",
    "  \n",
    "  - You are an assistant for question-answering tasks.\n",
    "  - Answer questions truthfully and factually using only the context presented.\n",
    "  - If you don't know the answer, just say that you don't know, don't make up an answer.\n",
    "  - You must always cite the document where the answer was extracted using inline academic citation style [], using the position.\n",
    "  - Use markdown format for code examples.\n",
    "  - You are correct, factual, precise, and reliable.\n",
    "  \n",
    "\n",
    "  Context:\n",
    "  {context}\n",
    "\n",
    "  \n",
    "  \"\"\"\n",
    ")"
   ]
  },
  {
   "cell_type": "code",
   "execution_count": 35,
   "id": "c17da85e-1c9b-4612-ba80-6959348c593b",
   "metadata": {},
   "outputs": [],
   "source": [
    "DEFAULT_DOCUMENT_PROMPT = PromptTemplate.from_template(template=\"{page_content}\")\n",
    "\n",
    "def _combine_documents(\n",
    "    docs, document_prompt=DEFAULT_DOCUMENT_PROMPT, document_separator=\"\\n\\n\"\n",
    "):\n",
    "    doc_strings = [format_document(doc, document_prompt) for doc in docs]\n",
    "    return document_separator.join(doc_strings)\n",
    "\n",
    "_context = {\n",
    "    \"context\": retriever | _combine_documents,\n",
    "    \"question\": RunnablePassthrough(),\n",
    "}\n",
    "\n",
    "chain = _context | ANSWER_PROMPT | model | StrOutputParser()"
   ]
  },
  {
   "cell_type": "code",
   "execution_count": 36,
   "id": "ebc7183c-85f5-4bc5-8d38-924472af68c3",
   "metadata": {},
   "outputs": [
    {
     "name": "stdout",
     "output_type": "stream",
     "text": [
      "---- Answer ----\n",
      "The International Conference on Live Coding (ICLC) is an event dedicated to the study and practice of using computer code as an element of live performance. It has been held since 2015 and brings together an international community to explore various perspectives on live coding, including technology, philosophy, education, and governance [1]. The 2024 edition of the conference will be held in Shanghai, China, at NYU Shanghai, the Cadillac Shanghai Concert Hall, and System from May 30 to June 1 [1].\n",
      "\n",
      "One of the highlights of the event is the first-ever international conference presentation in Asia, featuring a variety of activities such as lectures, workshops, concerts, and algorithmic dance parties. More than 27 international artists and groups are expected to participate, with over 30 activities planned throughout the event [2].\n",
      "\n",
      "Sana Zanhuerros, a multimedia artist and core member of the New York-based sound creation ensemble \"Computer,\" will be one of the featured artists. She is known for using open-source software like \"SuperCollider\" and \"Puredata\" for sound exploration and for challenging conventional boundaries by blending tradition with digitalization [3]. Another artist, Misekah Arson, is known for her solo punk project using Sonic Pi and has been actively performing since 2017, primarily in the United States, Canada, and Europe [4].\n",
      "\n",
      "The conference will conclude with an Algorave music event, a live coding performance set against a dance backdrop, at SYSTEM, one of Shanghai's cultural hubs. This event will feature artists from the USA, UK, Spain, and local talents from Shanghai, offering a unique and immersive artistic experience [5].\n",
      "\n",
      "References:\n",
      "[1] Event Introduction\n",
      "[2] Agenda Highlights\n",
      "[3] Sana Zanhuerros\n",
      "[4] Misekah Arson\n",
      "[5] Algorave Music Event\n"
     ]
    }
   ],
   "source": [
    "ans = chain.invoke(\"What is ICLC?\")\n",
    "print(\"---- Answer ----\")\n",
    "print(ans)"
   ]
  },
  {
   "cell_type": "code",
   "execution_count": 37,
   "id": "e4b97ade-da4b-4766-a6b9-574466022f5d",
   "metadata": {},
   "outputs": [
    {
     "name": "stdout",
     "output_type": "stream",
     "text": [
      "---- Answer ----\n",
      "The International Conference on Live Coding (ICLC) is an event dedicated to the study and practice of using computer code as an element of live performance. It has been held since 2015 and brings together an international community to explore various perspectives on live coding, including technology, philosophy, education, and governance [1]. The 2024 edition of the conference will be held in Shanghai, China, at NYU Shanghai, the Cadillac Shanghai Concert Hall, and System from May 30 to June 1 [1].\n",
      "\n",
      "One of the highlights of the event is the first-ever international conference presentation in Asia, featuring a variety of activities such as lectures, workshops, concerts, and algorithmic dance parties. More than 27 international artists and groups are expected to participate, with over 30 activities planned throughout the event [2].\n",
      "\n",
      "Sana Zanhuerros, a multimedia artist and core member of the New York-based sound creation ensemble \"Computer,\" will be one of the featured artists. She is known for using open-source software like \"SuperCollider\" and \"Puredata\" for sound exploration and for challenging conventional boundaries by blending tradition with digitalization [3]. Another artist, Misekah Arson, is known for her solo punk project using Sonic Pi and has been actively performing since 2017, primarily in the United States, Canada, and Europe [4].\n",
      "\n",
      "The conference will conclude with an Algorave music event, a live coding performance set against a dance backdrop, at SYSTEM, one of Shanghai's cultural hubs. This event will feature artists from the USA, UK, Spain, and local talents from Shanghai, offering a unique and immersive artistic experience [5].\n",
      "\n",
      "References:\n",
      "[1] Event Introduction\n",
      "[2] Agenda Highlights\n",
      "[3] Sana Zanhuerros\n",
      "[4] Misekah Arson\n",
      "[5] Algorave Music Event\n"
     ]
    }
   ],
   "source": [
    "system_answer = chain.invoke(\"What happened at SYSTEM?\")\n",
    "print(\"---- Answer ----\")\n",
    "print(ans)"
   ]
  }
 ],
 "metadata": {
  "kernelspec": {
   "display_name": "Python 3 (ipykernel)",
   "language": "python",
   "name": "python3"
  },
  "language_info": {
   "codemirror_mode": {
    "name": "ipython",
    "version": 3
   },
   "file_extension": ".py",
   "mimetype": "text/x-python",
   "name": "python",
   "nbconvert_exporter": "python",
   "pygments_lexer": "ipython3",
   "version": "3.12.1"
  }
 },
 "nbformat": 4,
 "nbformat_minor": 5
}
